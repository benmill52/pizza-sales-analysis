{
 "cells": [
  {
   "cell_type": "markdown",
   "id": "09c7e39d-11a6-4af9-aad7-822459cf16e3",
   "metadata": {},
   "source": [
    "# Pizza Sales Data Analysis  \r\n",
    "\r\n",
    "## 1. Introduction  \r\n",
    "This notebook analyzes pizza sales data by merging multiple datasets, cleaning them, and exploring sales performance using visualizations.  \r\n",
    "\r\n",
    "## 2. Importing Libraries  \r\n",
    "We begin by importing the necessary Python libraries:  \r\n",
    "- **Pandas** for data manipu\n",
    "-  **NumPy** for numerical operations. ations.  \r\n",
    "- **Matplotlib** for data visualization.  \r\n"
   ]
  },
  {
   "cell_type": "code",
   "execution_count": 137,
   "id": "6e64cc01-3b1a-4ac2-a3dd-e42d8c0c88a1",
   "metadata": {},
   "outputs": [],
   "source": [
    "# Load essential libraries for data manipulation (pandas), numerical computation (numpy), and visualization (matplotlib)\n",
    "import pandas as pd\n",
    "import numpy as np\n",
    "import matplotlib.pyplot as plt"
   ]
  },
  {
   "cell_type": "markdown",
   "id": "b5f146cc-9d2e-4e07-baa9-6b510b4e729e",
   "metadata": {},
   "source": [
    "### Loading Datasets  \r\n",
    "We are working with four CSV files that capture different aspects of pizza sales:  \r\n",
    "\r\n",
    "- **order_details.csv** → Contains details of each pizza in an order (order ID, pizza ID, quantity).  \r\n",
    "- **orders.csv** → Contains order-level data, including dates and times.  \r\n",
    "- **pizza_types.csv** → Contains pizza categories and descriptions.  \r\n",
    "- **pizzas.csv** → Contains pizza sizes and prices.  \r\n",
    "\r\n",
    "These datasets will later be merged to create a single, unified dataset for analysis.  \r\n"
   ]
  },
  {
   "cell_type": "code",
   "execution_count": 138,
   "id": "a5d2a9bf-2b94-4487-9122-de3a137ed530",
   "metadata": {},
   "outputs": [],
   "source": [
    "# Read the order_details CSV file into a pandas DataFrame\n",
    "df1 = pd.read_csv(r\"C:\\Users\\AKANBI BENJAMIN\\Documents\\order_details.csv\")\n",
    "\n",
    "# Read the orders CSV file into a pandas DataFrame\n",
    "df2 = pd.read_csv(r\"C:\\Users\\AKANBI BENJAMIN\\Documents\\orders.csv\")  \n",
    "\n",
    "# Read the 'pizza_types' CSV file into a pandas DataFrame\n",
    "# Note: encoding is set to 'latin1' to handle special characters that may cause errors with default UTF-8\n",
    "df3 = pd.read_csv(r\"C:\\Users\\AKANBI BENJAMIN\\Documents\\pizza_types.csv\", encoding=\"latin1\") \n",
    "\n",
    "# Read the pizzas CSV file into a pandas DataFrame\n",
    "df4 = pd.read_csv(r\"C:\\Users\\AKANBI BENJAMIN\\Documents\\pizzas.csv\")  "
   ]
  },
  {
   "cell_type": "markdown",
   "id": "72ee95d9-2095-4b69-9786-4f16905a6ebc",
   "metadata": {},
   "source": [
    "### Exploring the Data  \r\n",
    "Before analysis, it is important to understand the structure of each dataset.  \r\n",
    "We will:  \r\n",
    "- Preview sample records using `.head()` to confirm columns and values.  \r\n",
    "- Use `.info()` to inspect column datatypes, non-null counts, and memory usage.  \r\n",
    "- Check for missing values with `.isna().sum()` to identify potential data cleaning needs.  \r\n"
   ]
  },
  {
   "cell_type": "code",
   "execution_count": 139,
   "id": "f7d134b2-31da-4ebe-a4c1-3370cb529542",
   "metadata": {},
   "outputs": [
    {
     "data": {
      "text/html": [
       "<div>\n",
       "<style scoped>\n",
       "    .dataframe tbody tr th:only-of-type {\n",
       "        vertical-align: middle;\n",
       "    }\n",
       "\n",
       "    .dataframe tbody tr th {\n",
       "        vertical-align: top;\n",
       "    }\n",
       "\n",
       "    .dataframe thead th {\n",
       "        text-align: right;\n",
       "    }\n",
       "</style>\n",
       "<table border=\"1\" class=\"dataframe\">\n",
       "  <thead>\n",
       "    <tr style=\"text-align: right;\">\n",
       "      <th></th>\n",
       "      <th>order_details_id</th>\n",
       "      <th>order_id</th>\n",
       "      <th>pizza_id</th>\n",
       "      <th>quantity</th>\n",
       "    </tr>\n",
       "  </thead>\n",
       "  <tbody>\n",
       "    <tr>\n",
       "      <th>0</th>\n",
       "      <td>1</td>\n",
       "      <td>1</td>\n",
       "      <td>hawaiian_m</td>\n",
       "      <td>1</td>\n",
       "    </tr>\n",
       "    <tr>\n",
       "      <th>1</th>\n",
       "      <td>2</td>\n",
       "      <td>2</td>\n",
       "      <td>classic_dlx_m</td>\n",
       "      <td>1</td>\n",
       "    </tr>\n",
       "    <tr>\n",
       "      <th>2</th>\n",
       "      <td>3</td>\n",
       "      <td>2</td>\n",
       "      <td>five_cheese_l</td>\n",
       "      <td>1</td>\n",
       "    </tr>\n",
       "    <tr>\n",
       "      <th>3</th>\n",
       "      <td>4</td>\n",
       "      <td>2</td>\n",
       "      <td>ital_supr_l</td>\n",
       "      <td>1</td>\n",
       "    </tr>\n",
       "    <tr>\n",
       "      <th>4</th>\n",
       "      <td>5</td>\n",
       "      <td>2</td>\n",
       "      <td>mexicana_m</td>\n",
       "      <td>1</td>\n",
       "    </tr>\n",
       "  </tbody>\n",
       "</table>\n",
       "</div>"
      ],
      "text/plain": [
       "   order_details_id  order_id       pizza_id  quantity\n",
       "0                 1         1     hawaiian_m         1\n",
       "1                 2         2  classic_dlx_m         1\n",
       "2                 3         2  five_cheese_l         1\n",
       "3                 4         2    ital_supr_l         1\n",
       "4                 5         2     mexicana_m         1"
      ]
     },
     "execution_count": 139,
     "metadata": {},
     "output_type": "execute_result"
    }
   ],
   "source": [
    "# Quick preview of the order details dataset to understand structure and sample records\n",
    "\n",
    "df1.head()"
   ]
  },
  {
   "cell_type": "code",
   "execution_count": 140,
   "id": "c3e5d9e9-701d-44bc-aab0-7ebf412c4a55",
   "metadata": {},
   "outputs": [
    {
     "name": "stdout",
     "output_type": "stream",
     "text": [
      "<class 'pandas.core.frame.DataFrame'>\n",
      "RangeIndex: 48620 entries, 0 to 48619\n",
      "Data columns (total 4 columns):\n",
      " #   Column            Non-Null Count  Dtype \n",
      "---  ------            --------------  ----- \n",
      " 0   order_details_id  48620 non-null  int64 \n",
      " 1   order_id          48620 non-null  int64 \n",
      " 2   pizza_id          48620 non-null  object\n",
      " 3   quantity          48620 non-null  int64 \n",
      "dtypes: int64(3), object(1)\n",
      "memory usage: 1.5+ MB\n"
     ]
    }
   ],
   "source": [
    "# Show a concise summary of the DataFrame (columns, data types, non-null counts, memory usage)\n",
    "\n",
    "df1.info() "
   ]
  },
  {
   "cell_type": "code",
   "execution_count": 141,
   "id": "e39d2b02-adfd-4273-b7ae-91f5c1cddced",
   "metadata": {},
   "outputs": [
    {
     "data": {
      "text/plain": [
       "order_details_id    0\n",
       "order_id            0\n",
       "pizza_id            0\n",
       "quantity            0\n",
       "dtype: int64"
      ]
     },
     "execution_count": 141,
     "metadata": {},
     "output_type": "execute_result"
    }
   ],
   "source": [
    "# Count the number of missing (NaN) values in each column to identify potential data cleaning needs\n",
    "\n",
    "df1.isna().sum()"
   ]
  },
  {
   "cell_type": "code",
   "execution_count": 142,
   "id": "3ff01672-b89f-435a-8e3c-84ae96509751",
   "metadata": {},
   "outputs": [
    {
     "data": {
      "text/plain": [
       "(48620, 4)"
      ]
     },
     "execution_count": 142,
     "metadata": {},
     "output_type": "execute_result"
    }
   ],
   "source": [
    "# Get the number of rows and columns in the DataFrame (shape = [rows, columns])\n",
    "\n",
    "df1.shape"
   ]
  },
  {
   "cell_type": "code",
   "execution_count": 143,
   "id": "ab846001-d27d-4aa2-be3d-7e311e25d138",
   "metadata": {},
   "outputs": [
    {
     "data": {
      "text/html": [
       "<div>\n",
       "<style scoped>\n",
       "    .dataframe tbody tr th:only-of-type {\n",
       "        vertical-align: middle;\n",
       "    }\n",
       "\n",
       "    .dataframe tbody tr th {\n",
       "        vertical-align: top;\n",
       "    }\n",
       "\n",
       "    .dataframe thead th {\n",
       "        text-align: right;\n",
       "    }\n",
       "</style>\n",
       "<table border=\"1\" class=\"dataframe\">\n",
       "  <thead>\n",
       "    <tr style=\"text-align: right;\">\n",
       "      <th></th>\n",
       "      <th>order_id</th>\n",
       "      <th>date</th>\n",
       "      <th>time</th>\n",
       "    </tr>\n",
       "  </thead>\n",
       "  <tbody>\n",
       "    <tr>\n",
       "      <th>0</th>\n",
       "      <td>1</td>\n",
       "      <td>2015-01-01</td>\n",
       "      <td>11:38:36</td>\n",
       "    </tr>\n",
       "    <tr>\n",
       "      <th>1</th>\n",
       "      <td>2</td>\n",
       "      <td>2015-01-01</td>\n",
       "      <td>11:57:40</td>\n",
       "    </tr>\n",
       "    <tr>\n",
       "      <th>2</th>\n",
       "      <td>3</td>\n",
       "      <td>2015-01-01</td>\n",
       "      <td>12:12:28</td>\n",
       "    </tr>\n",
       "    <tr>\n",
       "      <th>3</th>\n",
       "      <td>4</td>\n",
       "      <td>2015-01-01</td>\n",
       "      <td>12:16:31</td>\n",
       "    </tr>\n",
       "    <tr>\n",
       "      <th>4</th>\n",
       "      <td>5</td>\n",
       "      <td>2015-01-01</td>\n",
       "      <td>12:21:30</td>\n",
       "    </tr>\n",
       "  </tbody>\n",
       "</table>\n",
       "</div>"
      ],
      "text/plain": [
       "   order_id        date      time\n",
       "0         1  2015-01-01  11:38:36\n",
       "1         2  2015-01-01  11:57:40\n",
       "2         3  2015-01-01  12:12:28\n",
       "3         4  2015-01-01  12:16:31\n",
       "4         5  2015-01-01  12:21:30"
      ]
     },
     "execution_count": 143,
     "metadata": {},
     "output_type": "execute_result"
    }
   ],
   "source": [
    "# Quick preview of the orders dataset to understand structure and sample records\n",
    "\n",
    "df2.head()"
   ]
  },
  {
   "cell_type": "code",
   "execution_count": 144,
   "id": "6d6b1700-0db2-4e22-b89c-5de6c24980b3",
   "metadata": {},
   "outputs": [
    {
     "name": "stdout",
     "output_type": "stream",
     "text": [
      "<class 'pandas.core.frame.DataFrame'>\n",
      "RangeIndex: 21350 entries, 0 to 21349\n",
      "Data columns (total 3 columns):\n",
      " #   Column    Non-Null Count  Dtype \n",
      "---  ------    --------------  ----- \n",
      " 0   order_id  21350 non-null  int64 \n",
      " 1   date      21350 non-null  object\n",
      " 2   time      21350 non-null  object\n",
      "dtypes: int64(1), object(2)\n",
      "memory usage: 500.5+ KB\n"
     ]
    }
   ],
   "source": [
    "# Show a concise summary of the DataFrame (columns, data types, non-null counts, memory usage)\n",
    "\n",
    "df2.info()"
   ]
  },
  {
   "cell_type": "code",
   "execution_count": 145,
   "id": "72be3458-56d4-4ac1-81dc-e2905c736061",
   "metadata": {},
   "outputs": [
    {
     "data": {
      "text/plain": [
       "order_id    0\n",
       "date        0\n",
       "time        0\n",
       "dtype: int64"
      ]
     },
     "execution_count": 145,
     "metadata": {},
     "output_type": "execute_result"
    }
   ],
   "source": [
    "# Count the number of missing (NaN) values in each column to identify potential data cleaning needs\n",
    "\n",
    "df2.isna().sum()"
   ]
  },
  {
   "cell_type": "code",
   "execution_count": 146,
   "id": "8cead057-7e25-4bdd-8139-2e31d08428a8",
   "metadata": {},
   "outputs": [
    {
     "data": {
      "text/plain": [
       "(21350, 3)"
      ]
     },
     "execution_count": 146,
     "metadata": {},
     "output_type": "execute_result"
    }
   ],
   "source": [
    "# Get the number of rows and columns in the DataFrame (shape = [rows, columns])\n",
    "\n",
    "df2.shape"
   ]
  },
  {
   "cell_type": "code",
   "execution_count": 147,
   "id": "c5bb8402-af27-455f-8a26-ace9e3c6423b",
   "metadata": {},
   "outputs": [
    {
     "data": {
      "text/html": [
       "<div>\n",
       "<style scoped>\n",
       "    .dataframe tbody tr th:only-of-type {\n",
       "        vertical-align: middle;\n",
       "    }\n",
       "\n",
       "    .dataframe tbody tr th {\n",
       "        vertical-align: top;\n",
       "    }\n",
       "\n",
       "    .dataframe thead th {\n",
       "        text-align: right;\n",
       "    }\n",
       "</style>\n",
       "<table border=\"1\" class=\"dataframe\">\n",
       "  <thead>\n",
       "    <tr style=\"text-align: right;\">\n",
       "      <th></th>\n",
       "      <th>pizza_type_id</th>\n",
       "      <th>name</th>\n",
       "      <th>category</th>\n",
       "      <th>ingredients</th>\n",
       "    </tr>\n",
       "  </thead>\n",
       "  <tbody>\n",
       "    <tr>\n",
       "      <th>0</th>\n",
       "      <td>bbq_ckn</td>\n",
       "      <td>The Barbecue Chicken Pizza</td>\n",
       "      <td>Chicken</td>\n",
       "      <td>Barbecued Chicken, Red Peppers, Green Peppers,...</td>\n",
       "    </tr>\n",
       "    <tr>\n",
       "      <th>1</th>\n",
       "      <td>cali_ckn</td>\n",
       "      <td>The California Chicken Pizza</td>\n",
       "      <td>Chicken</td>\n",
       "      <td>Chicken, Artichoke, Spinach, Garlic, Jalapeno ...</td>\n",
       "    </tr>\n",
       "    <tr>\n",
       "      <th>2</th>\n",
       "      <td>ckn_alfredo</td>\n",
       "      <td>The Chicken Alfredo Pizza</td>\n",
       "      <td>Chicken</td>\n",
       "      <td>Chicken, Red Onions, Red Peppers, Mushrooms, A...</td>\n",
       "    </tr>\n",
       "    <tr>\n",
       "      <th>3</th>\n",
       "      <td>ckn_pesto</td>\n",
       "      <td>The Chicken Pesto Pizza</td>\n",
       "      <td>Chicken</td>\n",
       "      <td>Chicken, Tomatoes, Red Peppers, Spinach, Garli...</td>\n",
       "    </tr>\n",
       "    <tr>\n",
       "      <th>4</th>\n",
       "      <td>southw_ckn</td>\n",
       "      <td>The Southwest Chicken Pizza</td>\n",
       "      <td>Chicken</td>\n",
       "      <td>Chicken, Tomatoes, Red Peppers, Red Onions, Ja...</td>\n",
       "    </tr>\n",
       "  </tbody>\n",
       "</table>\n",
       "</div>"
      ],
      "text/plain": [
       "  pizza_type_id                          name category  \\\n",
       "0       bbq_ckn    The Barbecue Chicken Pizza  Chicken   \n",
       "1      cali_ckn  The California Chicken Pizza  Chicken   \n",
       "2   ckn_alfredo     The Chicken Alfredo Pizza  Chicken   \n",
       "3     ckn_pesto       The Chicken Pesto Pizza  Chicken   \n",
       "4    southw_ckn   The Southwest Chicken Pizza  Chicken   \n",
       "\n",
       "                                         ingredients  \n",
       "0  Barbecued Chicken, Red Peppers, Green Peppers,...  \n",
       "1  Chicken, Artichoke, Spinach, Garlic, Jalapeno ...  \n",
       "2  Chicken, Red Onions, Red Peppers, Mushrooms, A...  \n",
       "3  Chicken, Tomatoes, Red Peppers, Spinach, Garli...  \n",
       "4  Chicken, Tomatoes, Red Peppers, Red Onions, Ja...  "
      ]
     },
     "execution_count": 147,
     "metadata": {},
     "output_type": "execute_result"
    }
   ],
   "source": [
    "# Quick preview of the pizza_type dataset to understand structure and sample records\n",
    "\n",
    "df3.head()"
   ]
  },
  {
   "cell_type": "code",
   "execution_count": 148,
   "id": "1d8f2e93-f746-4aa3-b5fc-7018d82219fc",
   "metadata": {},
   "outputs": [
    {
     "name": "stdout",
     "output_type": "stream",
     "text": [
      "<class 'pandas.core.frame.DataFrame'>\n",
      "RangeIndex: 32 entries, 0 to 31\n",
      "Data columns (total 4 columns):\n",
      " #   Column         Non-Null Count  Dtype \n",
      "---  ------         --------------  ----- \n",
      " 0   pizza_type_id  32 non-null     object\n",
      " 1   name           32 non-null     object\n",
      " 2   category       32 non-null     object\n",
      " 3   ingredients    32 non-null     object\n",
      "dtypes: object(4)\n",
      "memory usage: 1.1+ KB\n"
     ]
    }
   ],
   "source": [
    "# Show a concise summary of the DataFrame (columns, data types, non-null counts, memory usage)\n",
    "\n",
    "df3.info()"
   ]
  },
  {
   "cell_type": "code",
   "execution_count": 149,
   "id": "8c98c54d-15f6-4897-bffa-d5538f09eb03",
   "metadata": {},
   "outputs": [
    {
     "data": {
      "text/plain": [
       "pizza_type_id    0\n",
       "name             0\n",
       "category         0\n",
       "ingredients      0\n",
       "dtype: int64"
      ]
     },
     "execution_count": 149,
     "metadata": {},
     "output_type": "execute_result"
    }
   ],
   "source": [
    "# Count the number of missing (NaN) values in each column to identify potential data cleaning needs\n",
    "\n",
    "df3.isna().sum()"
   ]
  },
  {
   "cell_type": "code",
   "execution_count": 150,
   "id": "a390ecb4-beb9-4119-9dbd-51d5c5fe0bb1",
   "metadata": {},
   "outputs": [
    {
     "data": {
      "text/plain": [
       "(32, 4)"
      ]
     },
     "execution_count": 150,
     "metadata": {},
     "output_type": "execute_result"
    }
   ],
   "source": [
    "# Get the number of rows and columns in the DataFrame (shape = [rows, columns])\n",
    "\n",
    "df3.shape"
   ]
  },
  {
   "cell_type": "code",
   "execution_count": 151,
   "id": "faf7d27e-363d-421b-871d-0454a6e89120",
   "metadata": {},
   "outputs": [
    {
     "data": {
      "text/html": [
       "<div>\n",
       "<style scoped>\n",
       "    .dataframe tbody tr th:only-of-type {\n",
       "        vertical-align: middle;\n",
       "    }\n",
       "\n",
       "    .dataframe tbody tr th {\n",
       "        vertical-align: top;\n",
       "    }\n",
       "\n",
       "    .dataframe thead th {\n",
       "        text-align: right;\n",
       "    }\n",
       "</style>\n",
       "<table border=\"1\" class=\"dataframe\">\n",
       "  <thead>\n",
       "    <tr style=\"text-align: right;\">\n",
       "      <th></th>\n",
       "      <th>pizza_id</th>\n",
       "      <th>pizza_type_id</th>\n",
       "      <th>size</th>\n",
       "      <th>price</th>\n",
       "    </tr>\n",
       "  </thead>\n",
       "  <tbody>\n",
       "    <tr>\n",
       "      <th>0</th>\n",
       "      <td>bbq_ckn_s</td>\n",
       "      <td>bbq_ckn</td>\n",
       "      <td>S</td>\n",
       "      <td>12.75</td>\n",
       "    </tr>\n",
       "    <tr>\n",
       "      <th>1</th>\n",
       "      <td>bbq_ckn_m</td>\n",
       "      <td>bbq_ckn</td>\n",
       "      <td>M</td>\n",
       "      <td>16.75</td>\n",
       "    </tr>\n",
       "    <tr>\n",
       "      <th>2</th>\n",
       "      <td>bbq_ckn_l</td>\n",
       "      <td>bbq_ckn</td>\n",
       "      <td>L</td>\n",
       "      <td>20.75</td>\n",
       "    </tr>\n",
       "    <tr>\n",
       "      <th>3</th>\n",
       "      <td>cali_ckn_s</td>\n",
       "      <td>cali_ckn</td>\n",
       "      <td>S</td>\n",
       "      <td>12.75</td>\n",
       "    </tr>\n",
       "    <tr>\n",
       "      <th>4</th>\n",
       "      <td>cali_ckn_m</td>\n",
       "      <td>cali_ckn</td>\n",
       "      <td>M</td>\n",
       "      <td>16.75</td>\n",
       "    </tr>\n",
       "  </tbody>\n",
       "</table>\n",
       "</div>"
      ],
      "text/plain": [
       "     pizza_id pizza_type_id size  price\n",
       "0   bbq_ckn_s       bbq_ckn    S  12.75\n",
       "1   bbq_ckn_m       bbq_ckn    M  16.75\n",
       "2   bbq_ckn_l       bbq_ckn    L  20.75\n",
       "3  cali_ckn_s      cali_ckn    S  12.75\n",
       "4  cali_ckn_m      cali_ckn    M  16.75"
      ]
     },
     "execution_count": 151,
     "metadata": {},
     "output_type": "execute_result"
    }
   ],
   "source": [
    "# Quick preview of the pizzas dataset to understand structure and sample records\n",
    "\n",
    "df4.head() "
   ]
  },
  {
   "cell_type": "code",
   "execution_count": 152,
   "id": "fa59124f-64b8-4232-ad91-c02efe8014cd",
   "metadata": {},
   "outputs": [
    {
     "name": "stdout",
     "output_type": "stream",
     "text": [
      "<class 'pandas.core.frame.DataFrame'>\n",
      "RangeIndex: 96 entries, 0 to 95\n",
      "Data columns (total 4 columns):\n",
      " #   Column         Non-Null Count  Dtype  \n",
      "---  ------         --------------  -----  \n",
      " 0   pizza_id       96 non-null     object \n",
      " 1   pizza_type_id  96 non-null     object \n",
      " 2   size           96 non-null     object \n",
      " 3   price          96 non-null     float64\n",
      "dtypes: float64(1), object(3)\n",
      "memory usage: 3.1+ KB\n"
     ]
    }
   ],
   "source": [
    "# Show a concise summary of the DataFrame (columns, data types, non-null counts, memory usage)\n",
    "\n",
    "df4.info()"
   ]
  },
  {
   "cell_type": "code",
   "execution_count": 153,
   "id": "1c550af7-4e17-459e-93e2-55052abf6ba7",
   "metadata": {},
   "outputs": [
    {
     "data": {
      "text/plain": [
       "pizza_id         0\n",
       "pizza_type_id    0\n",
       "size             0\n",
       "price            0\n",
       "dtype: int64"
      ]
     },
     "execution_count": 153,
     "metadata": {},
     "output_type": "execute_result"
    }
   ],
   "source": [
    "# Count the number of missing (NaN) values in each column  to identify potential data cleaning needs\n",
    "\n",
    "df4.isna().sum()"
   ]
  },
  {
   "cell_type": "code",
   "execution_count": 154,
   "id": "f60db397-d6e8-4828-a679-f6db5f76c49c",
   "metadata": {},
   "outputs": [
    {
     "data": {
      "text/plain": [
       "(96, 4)"
      ]
     },
     "execution_count": 154,
     "metadata": {},
     "output_type": "execute_result"
    }
   ],
   "source": [
    "# Get the number of rows and columns in the DataFrame (shape = [rows, columns])\n",
    "\n",
    "df4.shape"
   ]
  },
  {
   "cell_type": "markdown",
   "id": "313c9632-3a76-423a-9da2-2806d9c23acd",
   "metadata": {},
   "source": [
    "### Merging Datasets  \r\n",
    "The information we need is spread across four different CSV files.  \r\n",
    "To create a unified dataset for analysis, we perform the following merges:  \r\n",
    "- Combine `order_details` with `orders` using the `order_id`.  \r\n",
    "- Add pizza category information from `pizza_types`.  \r\n",
    "- Add size and price details from `pizzas`.  \r\n",
    "\r\n",
    "This results in a single dataset that contains all relevant details for exploration and analysis.  \r\n"
   ]
  },
  {
   "cell_type": "code",
   "execution_count": 155,
   "id": "20d13e1a-a7ae-429b-9114-b546e8890ed4",
   "metadata": {},
   "outputs": [],
   "source": [
    "# Merge df1 (order_details) and df2 (orders) on the common column 'order_id'\n",
    "# Using an INNER JOIN ensures only matching order_ids from both DataFrames are kept\n",
    "\n",
    "df5=pd.merge(df1, df2, on= \"order_id\", how= \"inner\" )"
   ]
  },
  {
   "cell_type": "code",
   "execution_count": 156,
   "id": "3f5d5a23-5ae4-48f4-9836-f6f765fc7999",
   "metadata": {},
   "outputs": [
    {
     "data": {
      "text/html": [
       "<div>\n",
       "<style scoped>\n",
       "    .dataframe tbody tr th:only-of-type {\n",
       "        vertical-align: middle;\n",
       "    }\n",
       "\n",
       "    .dataframe tbody tr th {\n",
       "        vertical-align: top;\n",
       "    }\n",
       "\n",
       "    .dataframe thead th {\n",
       "        text-align: right;\n",
       "    }\n",
       "</style>\n",
       "<table border=\"1\" class=\"dataframe\">\n",
       "  <thead>\n",
       "    <tr style=\"text-align: right;\">\n",
       "      <th></th>\n",
       "      <th>order_details_id</th>\n",
       "      <th>order_id</th>\n",
       "      <th>pizza_id</th>\n",
       "      <th>quantity</th>\n",
       "      <th>date</th>\n",
       "      <th>time</th>\n",
       "    </tr>\n",
       "  </thead>\n",
       "  <tbody>\n",
       "    <tr>\n",
       "      <th>0</th>\n",
       "      <td>1</td>\n",
       "      <td>1</td>\n",
       "      <td>hawaiian_m</td>\n",
       "      <td>1</td>\n",
       "      <td>2015-01-01</td>\n",
       "      <td>11:38:36</td>\n",
       "    </tr>\n",
       "    <tr>\n",
       "      <th>1</th>\n",
       "      <td>2</td>\n",
       "      <td>2</td>\n",
       "      <td>classic_dlx_m</td>\n",
       "      <td>1</td>\n",
       "      <td>2015-01-01</td>\n",
       "      <td>11:57:40</td>\n",
       "    </tr>\n",
       "    <tr>\n",
       "      <th>2</th>\n",
       "      <td>3</td>\n",
       "      <td>2</td>\n",
       "      <td>five_cheese_l</td>\n",
       "      <td>1</td>\n",
       "      <td>2015-01-01</td>\n",
       "      <td>11:57:40</td>\n",
       "    </tr>\n",
       "    <tr>\n",
       "      <th>3</th>\n",
       "      <td>4</td>\n",
       "      <td>2</td>\n",
       "      <td>ital_supr_l</td>\n",
       "      <td>1</td>\n",
       "      <td>2015-01-01</td>\n",
       "      <td>11:57:40</td>\n",
       "    </tr>\n",
       "    <tr>\n",
       "      <th>4</th>\n",
       "      <td>5</td>\n",
       "      <td>2</td>\n",
       "      <td>mexicana_m</td>\n",
       "      <td>1</td>\n",
       "      <td>2015-01-01</td>\n",
       "      <td>11:57:40</td>\n",
       "    </tr>\n",
       "  </tbody>\n",
       "</table>\n",
       "</div>"
      ],
      "text/plain": [
       "   order_details_id  order_id       pizza_id  quantity        date      time\n",
       "0                 1         1     hawaiian_m         1  2015-01-01  11:38:36\n",
       "1                 2         2  classic_dlx_m         1  2015-01-01  11:57:40\n",
       "2                 3         2  five_cheese_l         1  2015-01-01  11:57:40\n",
       "3                 4         2    ital_supr_l         1  2015-01-01  11:57:40\n",
       "4                 5         2     mexicana_m         1  2015-01-01  11:57:40"
      ]
     },
     "execution_count": 156,
     "metadata": {},
     "output_type": "execute_result"
    }
   ],
   "source": [
    "# Quick preview of the Merged df1 (order_details) and df2 (orders) dataset to understand structure and sample records\n",
    "\n",
    "df5.head()"
   ]
  },
  {
   "cell_type": "code",
   "execution_count": 157,
   "id": "f01a53f1-66fc-4d26-89d0-a80488b1fc81",
   "metadata": {},
   "outputs": [],
   "source": [
    "# Merge df3 (pizza_type) and df4 (pizzas) on the common column 'order_id'\n",
    "# Using an INNER JOIN ensures only matching order_ids from both DataFrames are kept\n",
    "\n",
    "df6=pd.merge(df3, df4, on= \"pizza_type_id\", how= \"inner\" )"
   ]
  },
  {
   "cell_type": "code",
   "execution_count": 158,
   "id": "a84934d5-64f4-4980-a89e-d81dd6ec3859",
   "metadata": {},
   "outputs": [
    {
     "data": {
      "text/html": [
       "<div>\n",
       "<style scoped>\n",
       "    .dataframe tbody tr th:only-of-type {\n",
       "        vertical-align: middle;\n",
       "    }\n",
       "\n",
       "    .dataframe tbody tr th {\n",
       "        vertical-align: top;\n",
       "    }\n",
       "\n",
       "    .dataframe thead th {\n",
       "        text-align: right;\n",
       "    }\n",
       "</style>\n",
       "<table border=\"1\" class=\"dataframe\">\n",
       "  <thead>\n",
       "    <tr style=\"text-align: right;\">\n",
       "      <th></th>\n",
       "      <th>pizza_type_id</th>\n",
       "      <th>name</th>\n",
       "      <th>category</th>\n",
       "      <th>ingredients</th>\n",
       "      <th>pizza_id</th>\n",
       "      <th>size</th>\n",
       "      <th>price</th>\n",
       "    </tr>\n",
       "  </thead>\n",
       "  <tbody>\n",
       "    <tr>\n",
       "      <th>0</th>\n",
       "      <td>bbq_ckn</td>\n",
       "      <td>The Barbecue Chicken Pizza</td>\n",
       "      <td>Chicken</td>\n",
       "      <td>Barbecued Chicken, Red Peppers, Green Peppers,...</td>\n",
       "      <td>bbq_ckn_s</td>\n",
       "      <td>S</td>\n",
       "      <td>12.75</td>\n",
       "    </tr>\n",
       "    <tr>\n",
       "      <th>1</th>\n",
       "      <td>bbq_ckn</td>\n",
       "      <td>The Barbecue Chicken Pizza</td>\n",
       "      <td>Chicken</td>\n",
       "      <td>Barbecued Chicken, Red Peppers, Green Peppers,...</td>\n",
       "      <td>bbq_ckn_m</td>\n",
       "      <td>M</td>\n",
       "      <td>16.75</td>\n",
       "    </tr>\n",
       "    <tr>\n",
       "      <th>2</th>\n",
       "      <td>bbq_ckn</td>\n",
       "      <td>The Barbecue Chicken Pizza</td>\n",
       "      <td>Chicken</td>\n",
       "      <td>Barbecued Chicken, Red Peppers, Green Peppers,...</td>\n",
       "      <td>bbq_ckn_l</td>\n",
       "      <td>L</td>\n",
       "      <td>20.75</td>\n",
       "    </tr>\n",
       "    <tr>\n",
       "      <th>3</th>\n",
       "      <td>cali_ckn</td>\n",
       "      <td>The California Chicken Pizza</td>\n",
       "      <td>Chicken</td>\n",
       "      <td>Chicken, Artichoke, Spinach, Garlic, Jalapeno ...</td>\n",
       "      <td>cali_ckn_s</td>\n",
       "      <td>S</td>\n",
       "      <td>12.75</td>\n",
       "    </tr>\n",
       "    <tr>\n",
       "      <th>4</th>\n",
       "      <td>cali_ckn</td>\n",
       "      <td>The California Chicken Pizza</td>\n",
       "      <td>Chicken</td>\n",
       "      <td>Chicken, Artichoke, Spinach, Garlic, Jalapeno ...</td>\n",
       "      <td>cali_ckn_m</td>\n",
       "      <td>M</td>\n",
       "      <td>16.75</td>\n",
       "    </tr>\n",
       "  </tbody>\n",
       "</table>\n",
       "</div>"
      ],
      "text/plain": [
       "  pizza_type_id                          name category  \\\n",
       "0       bbq_ckn    The Barbecue Chicken Pizza  Chicken   \n",
       "1       bbq_ckn    The Barbecue Chicken Pizza  Chicken   \n",
       "2       bbq_ckn    The Barbecue Chicken Pizza  Chicken   \n",
       "3      cali_ckn  The California Chicken Pizza  Chicken   \n",
       "4      cali_ckn  The California Chicken Pizza  Chicken   \n",
       "\n",
       "                                         ingredients    pizza_id size  price  \n",
       "0  Barbecued Chicken, Red Peppers, Green Peppers,...   bbq_ckn_s    S  12.75  \n",
       "1  Barbecued Chicken, Red Peppers, Green Peppers,...   bbq_ckn_m    M  16.75  \n",
       "2  Barbecued Chicken, Red Peppers, Green Peppers,...   bbq_ckn_l    L  20.75  \n",
       "3  Chicken, Artichoke, Spinach, Garlic, Jalapeno ...  cali_ckn_s    S  12.75  \n",
       "4  Chicken, Artichoke, Spinach, Garlic, Jalapeno ...  cali_ckn_m    M  16.75  "
      ]
     },
     "execution_count": 158,
     "metadata": {},
     "output_type": "execute_result"
    }
   ],
   "source": [
    "# Quick preview of the Merged df3 (pizza_type) and df4 (pizzas) dataset to understand structure and sample records\n",
    "\n",
    "df6.head()"
   ]
  },
  {
   "cell_type": "code",
   "execution_count": 159,
   "id": "bb1b272e-2929-4fc9-8d73-b4bcab0338ab",
   "metadata": {},
   "outputs": [],
   "source": [
    "data = pd.merge(df5,df6, on= \"pizza_id\", how = \"inner\")"
   ]
  },
  {
   "cell_type": "code",
   "execution_count": 160,
   "id": "83444a60-e1c0-4586-956b-7f8a51f6779c",
   "metadata": {},
   "outputs": [
    {
     "data": {
      "text/html": [
       "<div>\n",
       "<style scoped>\n",
       "    .dataframe tbody tr th:only-of-type {\n",
       "        vertical-align: middle;\n",
       "    }\n",
       "\n",
       "    .dataframe tbody tr th {\n",
       "        vertical-align: top;\n",
       "    }\n",
       "\n",
       "    .dataframe thead th {\n",
       "        text-align: right;\n",
       "    }\n",
       "</style>\n",
       "<table border=\"1\" class=\"dataframe\">\n",
       "  <thead>\n",
       "    <tr style=\"text-align: right;\">\n",
       "      <th></th>\n",
       "      <th>order_details_id</th>\n",
       "      <th>order_id</th>\n",
       "      <th>pizza_id</th>\n",
       "      <th>quantity</th>\n",
       "      <th>date</th>\n",
       "      <th>time</th>\n",
       "      <th>pizza_type_id</th>\n",
       "      <th>name</th>\n",
       "      <th>category</th>\n",
       "      <th>ingredients</th>\n",
       "      <th>size</th>\n",
       "      <th>price</th>\n",
       "    </tr>\n",
       "  </thead>\n",
       "  <tbody>\n",
       "    <tr>\n",
       "      <th>0</th>\n",
       "      <td>1</td>\n",
       "      <td>1</td>\n",
       "      <td>hawaiian_m</td>\n",
       "      <td>1</td>\n",
       "      <td>2015-01-01</td>\n",
       "      <td>11:38:36</td>\n",
       "      <td>hawaiian</td>\n",
       "      <td>The Hawaiian Pizza</td>\n",
       "      <td>Classic</td>\n",
       "      <td>Sliced Ham, Pineapple, Mozzarella Cheese</td>\n",
       "      <td>M</td>\n",
       "      <td>13.25</td>\n",
       "    </tr>\n",
       "    <tr>\n",
       "      <th>1</th>\n",
       "      <td>179</td>\n",
       "      <td>77</td>\n",
       "      <td>hawaiian_m</td>\n",
       "      <td>1</td>\n",
       "      <td>2015-01-02</td>\n",
       "      <td>12:22:46</td>\n",
       "      <td>hawaiian</td>\n",
       "      <td>The Hawaiian Pizza</td>\n",
       "      <td>Classic</td>\n",
       "      <td>Sliced Ham, Pineapple, Mozzarella Cheese</td>\n",
       "      <td>M</td>\n",
       "      <td>13.25</td>\n",
       "    </tr>\n",
       "    <tr>\n",
       "      <th>2</th>\n",
       "      <td>357</td>\n",
       "      <td>146</td>\n",
       "      <td>hawaiian_m</td>\n",
       "      <td>1</td>\n",
       "      <td>2015-01-03</td>\n",
       "      <td>14:22:10</td>\n",
       "      <td>hawaiian</td>\n",
       "      <td>The Hawaiian Pizza</td>\n",
       "      <td>Classic</td>\n",
       "      <td>Sliced Ham, Pineapple, Mozzarella Cheese</td>\n",
       "      <td>M</td>\n",
       "      <td>13.25</td>\n",
       "    </tr>\n",
       "    <tr>\n",
       "      <th>3</th>\n",
       "      <td>389</td>\n",
       "      <td>163</td>\n",
       "      <td>hawaiian_m</td>\n",
       "      <td>1</td>\n",
       "      <td>2015-01-03</td>\n",
       "      <td>16:54:54</td>\n",
       "      <td>hawaiian</td>\n",
       "      <td>The Hawaiian Pizza</td>\n",
       "      <td>Classic</td>\n",
       "      <td>Sliced Ham, Pineapple, Mozzarella Cheese</td>\n",
       "      <td>M</td>\n",
       "      <td>13.25</td>\n",
       "    </tr>\n",
       "    <tr>\n",
       "      <th>4</th>\n",
       "      <td>568</td>\n",
       "      <td>247</td>\n",
       "      <td>hawaiian_m</td>\n",
       "      <td>1</td>\n",
       "      <td>2015-01-04</td>\n",
       "      <td>20:55:29</td>\n",
       "      <td>hawaiian</td>\n",
       "      <td>The Hawaiian Pizza</td>\n",
       "      <td>Classic</td>\n",
       "      <td>Sliced Ham, Pineapple, Mozzarella Cheese</td>\n",
       "      <td>M</td>\n",
       "      <td>13.25</td>\n",
       "    </tr>\n",
       "  </tbody>\n",
       "</table>\n",
       "</div>"
      ],
      "text/plain": [
       "   order_details_id  order_id    pizza_id  quantity        date      time  \\\n",
       "0                 1         1  hawaiian_m         1  2015-01-01  11:38:36   \n",
       "1               179        77  hawaiian_m         1  2015-01-02  12:22:46   \n",
       "2               357       146  hawaiian_m         1  2015-01-03  14:22:10   \n",
       "3               389       163  hawaiian_m         1  2015-01-03  16:54:54   \n",
       "4               568       247  hawaiian_m         1  2015-01-04  20:55:29   \n",
       "\n",
       "  pizza_type_id                name category  \\\n",
       "0      hawaiian  The Hawaiian Pizza  Classic   \n",
       "1      hawaiian  The Hawaiian Pizza  Classic   \n",
       "2      hawaiian  The Hawaiian Pizza  Classic   \n",
       "3      hawaiian  The Hawaiian Pizza  Classic   \n",
       "4      hawaiian  The Hawaiian Pizza  Classic   \n",
       "\n",
       "                                ingredients size  price  \n",
       "0  Sliced Ham, Pineapple, Mozzarella Cheese    M  13.25  \n",
       "1  Sliced Ham, Pineapple, Mozzarella Cheese    M  13.25  \n",
       "2  Sliced Ham, Pineapple, Mozzarella Cheese    M  13.25  \n",
       "3  Sliced Ham, Pineapple, Mozzarella Cheese    M  13.25  \n",
       "4  Sliced Ham, Pineapple, Mozzarella Cheese    M  13.25  "
      ]
     },
     "execution_count": 160,
     "metadata": {},
     "output_type": "execute_result"
    }
   ],
   "source": [
    "# Quick Preview the merged dataset (order details, orders, pizza types, and pizzas) to verify structure and sample records\n",
    "\n",
    "data.head()"
   ]
  },
  {
   "cell_type": "code",
   "execution_count": 161,
   "id": "96e1cc98-309d-4b37-8c6b-589c72ae2af3",
   "metadata": {},
   "outputs": [
    {
     "name": "stdout",
     "output_type": "stream",
     "text": [
      "<class 'pandas.core.frame.DataFrame'>\n",
      "RangeIndex: 48620 entries, 0 to 48619\n",
      "Data columns (total 12 columns):\n",
      " #   Column            Non-Null Count  Dtype  \n",
      "---  ------            --------------  -----  \n",
      " 0   order_details_id  48620 non-null  int64  \n",
      " 1   order_id          48620 non-null  int64  \n",
      " 2   pizza_id          48620 non-null  object \n",
      " 3   quantity          48620 non-null  int64  \n",
      " 4   date              48620 non-null  object \n",
      " 5   time              48620 non-null  object \n",
      " 6   pizza_type_id     48620 non-null  object \n",
      " 7   name              48620 non-null  object \n",
      " 8   category          48620 non-null  object \n",
      " 9   ingredients       48620 non-null  object \n",
      " 10  size              48620 non-null  object \n",
      " 11  price             48620 non-null  float64\n",
      "dtypes: float64(1), int64(3), object(8)\n",
      "memory usage: 4.5+ MB\n"
     ]
    }
   ],
   "source": [
    "# Show a concise summary of the DataFrame (columns, data types, non-null counts, memory usage)\n",
    "\n",
    "data.info()"
   ]
  },
  {
   "cell_type": "code",
   "execution_count": 162,
   "id": "c07ab89b-a00c-4075-a483-587a34eaca02",
   "metadata": {},
   "outputs": [
    {
     "data": {
      "text/plain": [
       "order_details_id    0\n",
       "order_id            0\n",
       "pizza_id            0\n",
       "quantity            0\n",
       "date                0\n",
       "time                0\n",
       "pizza_type_id       0\n",
       "name                0\n",
       "category            0\n",
       "ingredients         0\n",
       "size                0\n",
       "price               0\n",
       "dtype: int64"
      ]
     },
     "execution_count": 162,
     "metadata": {},
     "output_type": "execute_result"
    }
   ],
   "source": [
    "# Count the number of missing (NaN) values in each column to identify potential data cleaning needs\n",
    "\n",
    "data.isna().sum()"
   ]
  },
  {
   "cell_type": "code",
   "execution_count": 163,
   "id": "a12c7502-dfe3-47bd-9bc7-b3b18c8dfc0f",
   "metadata": {},
   "outputs": [
    {
     "data": {
      "text/plain": [
       "0        False\n",
       "1        False\n",
       "2        False\n",
       "3        False\n",
       "4        False\n",
       "         ...  \n",
       "48615    False\n",
       "48616    False\n",
       "48617    False\n",
       "48618    False\n",
       "48619    False\n",
       "Length: 48620, dtype: bool"
      ]
     },
     "execution_count": 163,
     "metadata": {},
     "output_type": "execute_result"
    }
   ],
   "source": [
    "# Check for duplicate rows in the dataset\n",
    "\n",
    "data.duplicated()"
   ]
  },
  {
   "cell_type": "markdown",
   "id": "7f8d8fa3-e7e1-4b0a-bf2d-13385e968224",
   "metadata": {},
   "source": [
    "### Data Cleaning (Datatype Conversion)  \n",
    "After merging, we checked for missing values and duplicate records.  \n",
    "No missing or duplicate data was found, so no additional cleaning was required.  \n",
    "\n",
    "The main adjustment here is **converting datatypes** — particularly transforming the `date` column into `datetime` format.  \n",
    "This allows for accurate time-based analysis such as monthly or weekly trends.  \n"
   ]
  },
  {
   "cell_type": "code",
   "execution_count": 164,
   "id": "38a6fe51-40a8-4bb3-b8e5-d676d022f225",
   "metadata": {},
   "outputs": [
    {
     "name": "stdout",
     "output_type": "stream",
     "text": [
      "<class 'pandas.core.frame.DataFrame'>\n",
      "RangeIndex: 48620 entries, 0 to 48619\n",
      "Data columns (total 12 columns):\n",
      " #   Column            Non-Null Count  Dtype         \n",
      "---  ------            --------------  -----         \n",
      " 0   order_details_id  48620 non-null  int64         \n",
      " 1   order_id          48620 non-null  int64         \n",
      " 2   pizza_id          48620 non-null  object        \n",
      " 3   quantity          48620 non-null  int64         \n",
      " 4   date              48620 non-null  datetime64[ns]\n",
      " 5   time              48620 non-null  datetime64[ns]\n",
      " 6   pizza_type_id     48620 non-null  object        \n",
      " 7   name              48620 non-null  object        \n",
      " 8   category          48620 non-null  object        \n",
      " 9   ingredients       48620 non-null  object        \n",
      " 10  size              48620 non-null  object        \n",
      " 11  price             48620 non-null  float64       \n",
      "dtypes: datetime64[ns](2), float64(1), int64(3), object(6)\n",
      "memory usage: 4.5+ MB\n"
     ]
    }
   ],
   "source": [
    "# Convert the 'date' column to datetime objects (infers format automatically)\n",
    "\n",
    "data[\"date\"]= pd.to_datetime(data[\"date\"])\n",
    "\n",
    "# Convert the 'time' column to datetime objects using the specific format HH:MM:SS\n",
    "# This avoids warnings and ensures consistent parsing of time values\n",
    "\n",
    "data[\"time\"]= pd.to_datetime(data[\"time\"], format=\"%H:%M:%S\")\n",
    "\n",
    "# Display the dataframe structure to confirm the changes\n",
    "\n",
    "data.info()"
   ]
  },
  {
   "cell_type": "markdown",
   "id": "35e1a8b7-cac5-4214-9e74-4cceedc22d4b",
   "metadata": {},
   "source": [
    "### Exploratory Analysis – Sales Overview  \r\n",
    "With the cleaned and merged dataset, we begin exploring sales performance.  \r\n",
    "The focus here is to answer key questions such as:  \r\n",
    "- How many total orders were placed?  \r\n",
    "- How many pizzas were sold overall?  \r\n",
    "- What is the total revenue generated?  \r\n",
    "\r\n",
    "These basic metrics give us a high-level picture of overall business performance before diving deeper into trends and product-level insihts.  \r\n",
    ".  "
   ]
  },
  {
   "cell_type": "markdown",
   "id": "37886439-152a-445b-a3e8-4629c13b906b",
   "metadata": {},
   "source": [
    "### 1. Total Revenue / Sales  \r\n",
    "We calculate the overall revenue generated from all pizza sales. This is done by multiplying the price of each pizza by the quantity sold and summing up the results.  "
   ]
  },
  {
   "cell_type": "code",
   "execution_count": 165,
   "id": "4e4d016e-e73a-436c-91ad-3a711ef310d5",
   "metadata": {},
   "outputs": [
    {
     "data": {
      "text/html": [
       "<div>\n",
       "<style scoped>\n",
       "    .dataframe tbody tr th:only-of-type {\n",
       "        vertical-align: middle;\n",
       "    }\n",
       "\n",
       "    .dataframe tbody tr th {\n",
       "        vertical-align: top;\n",
       "    }\n",
       "\n",
       "    .dataframe thead th {\n",
       "        text-align: right;\n",
       "    }\n",
       "</style>\n",
       "<table border=\"1\" class=\"dataframe\">\n",
       "  <thead>\n",
       "    <tr style=\"text-align: right;\">\n",
       "      <th></th>\n",
       "      <th>order_details_id</th>\n",
       "      <th>order_id</th>\n",
       "      <th>pizza_id</th>\n",
       "      <th>quantity</th>\n",
       "      <th>date</th>\n",
       "      <th>time</th>\n",
       "      <th>pizza_type_id</th>\n",
       "      <th>name</th>\n",
       "      <th>category</th>\n",
       "      <th>ingredients</th>\n",
       "      <th>size</th>\n",
       "      <th>price</th>\n",
       "      <th>revenue</th>\n",
       "    </tr>\n",
       "  </thead>\n",
       "  <tbody>\n",
       "    <tr>\n",
       "      <th>0</th>\n",
       "      <td>1</td>\n",
       "      <td>1</td>\n",
       "      <td>hawaiian_m</td>\n",
       "      <td>1</td>\n",
       "      <td>2015-01-01</td>\n",
       "      <td>1900-01-01 11:38:36</td>\n",
       "      <td>hawaiian</td>\n",
       "      <td>The Hawaiian Pizza</td>\n",
       "      <td>Classic</td>\n",
       "      <td>Sliced Ham, Pineapple, Mozzarella Cheese</td>\n",
       "      <td>M</td>\n",
       "      <td>13.25</td>\n",
       "      <td>13.25</td>\n",
       "    </tr>\n",
       "    <tr>\n",
       "      <th>1</th>\n",
       "      <td>179</td>\n",
       "      <td>77</td>\n",
       "      <td>hawaiian_m</td>\n",
       "      <td>1</td>\n",
       "      <td>2015-01-02</td>\n",
       "      <td>1900-01-01 12:22:46</td>\n",
       "      <td>hawaiian</td>\n",
       "      <td>The Hawaiian Pizza</td>\n",
       "      <td>Classic</td>\n",
       "      <td>Sliced Ham, Pineapple, Mozzarella Cheese</td>\n",
       "      <td>M</td>\n",
       "      <td>13.25</td>\n",
       "      <td>13.25</td>\n",
       "    </tr>\n",
       "    <tr>\n",
       "      <th>2</th>\n",
       "      <td>357</td>\n",
       "      <td>146</td>\n",
       "      <td>hawaiian_m</td>\n",
       "      <td>1</td>\n",
       "      <td>2015-01-03</td>\n",
       "      <td>1900-01-01 14:22:10</td>\n",
       "      <td>hawaiian</td>\n",
       "      <td>The Hawaiian Pizza</td>\n",
       "      <td>Classic</td>\n",
       "      <td>Sliced Ham, Pineapple, Mozzarella Cheese</td>\n",
       "      <td>M</td>\n",
       "      <td>13.25</td>\n",
       "      <td>13.25</td>\n",
       "    </tr>\n",
       "    <tr>\n",
       "      <th>3</th>\n",
       "      <td>389</td>\n",
       "      <td>163</td>\n",
       "      <td>hawaiian_m</td>\n",
       "      <td>1</td>\n",
       "      <td>2015-01-03</td>\n",
       "      <td>1900-01-01 16:54:54</td>\n",
       "      <td>hawaiian</td>\n",
       "      <td>The Hawaiian Pizza</td>\n",
       "      <td>Classic</td>\n",
       "      <td>Sliced Ham, Pineapple, Mozzarella Cheese</td>\n",
       "      <td>M</td>\n",
       "      <td>13.25</td>\n",
       "      <td>13.25</td>\n",
       "    </tr>\n",
       "    <tr>\n",
       "      <th>4</th>\n",
       "      <td>568</td>\n",
       "      <td>247</td>\n",
       "      <td>hawaiian_m</td>\n",
       "      <td>1</td>\n",
       "      <td>2015-01-04</td>\n",
       "      <td>1900-01-01 20:55:29</td>\n",
       "      <td>hawaiian</td>\n",
       "      <td>The Hawaiian Pizza</td>\n",
       "      <td>Classic</td>\n",
       "      <td>Sliced Ham, Pineapple, Mozzarella Cheese</td>\n",
       "      <td>M</td>\n",
       "      <td>13.25</td>\n",
       "      <td>13.25</td>\n",
       "    </tr>\n",
       "  </tbody>\n",
       "</table>\n",
       "</div>"
      ],
      "text/plain": [
       "   order_details_id  order_id    pizza_id  quantity       date  \\\n",
       "0                 1         1  hawaiian_m         1 2015-01-01   \n",
       "1               179        77  hawaiian_m         1 2015-01-02   \n",
       "2               357       146  hawaiian_m         1 2015-01-03   \n",
       "3               389       163  hawaiian_m         1 2015-01-03   \n",
       "4               568       247  hawaiian_m         1 2015-01-04   \n",
       "\n",
       "                 time pizza_type_id                name category  \\\n",
       "0 1900-01-01 11:38:36      hawaiian  The Hawaiian Pizza  Classic   \n",
       "1 1900-01-01 12:22:46      hawaiian  The Hawaiian Pizza  Classic   \n",
       "2 1900-01-01 14:22:10      hawaiian  The Hawaiian Pizza  Classic   \n",
       "3 1900-01-01 16:54:54      hawaiian  The Hawaiian Pizza  Classic   \n",
       "4 1900-01-01 20:55:29      hawaiian  The Hawaiian Pizza  Classic   \n",
       "\n",
       "                                ingredients size  price  revenue  \n",
       "0  Sliced Ham, Pineapple, Mozzarella Cheese    M  13.25    13.25  \n",
       "1  Sliced Ham, Pineapple, Mozzarella Cheese    M  13.25    13.25  \n",
       "2  Sliced Ham, Pineapple, Mozzarella Cheese    M  13.25    13.25  \n",
       "3  Sliced Ham, Pineapple, Mozzarella Cheese    M  13.25    13.25  \n",
       "4  Sliced Ham, Pineapple, Mozzarella Cheese    M  13.25    13.25  "
      ]
     },
     "execution_count": 165,
     "metadata": {},
     "output_type": "execute_result"
    }
   ],
   "source": [
    "# Create a new column 'Revenue' by multiplying the price of each pizza by the quantity sold\n",
    "\n",
    "data[\"revenue\"]= data[\"price\"] * data[\"quantity\"]\n",
    "\n",
    "# Preview the first 5 rows to confirm the new column has been added correctly\n",
    "\n",
    "data.head()"
   ]
  },
  {
   "cell_type": "code",
   "execution_count": 195,
   "id": "b3658f4b-ca33-4d7b-826c-ca4745d860f8",
   "metadata": {},
   "outputs": [
    {
     "name": "stdout",
     "output_type": "stream",
     "text": [
      "The Total Revenue is : 817860.0499999999\n"
     ]
    }
   ],
   "source": [
    "# Compute the total revenue by summing all entries in the 'revenue' column\n",
    "# This gives the overall sales generated from all pizza orders\n",
    "\n",
    "TotalRevenue= data[\"revenue\"].sum()\n",
    "\n",
    "# Display the total revenue value\n",
    "\n",
    "print (f\"The Total Revenue generated is : {TotalRevenue}\")"
   ]
  },
  {
   "cell_type": "markdown",
   "id": "3eb284f2-c067-461b-9d3f-333bed6163c6",
   "metadata": {},
   "source": [
    "### Total Quantity Sold  \r\n",
    "Here we find the total number of pizza units sold across"
   ]
  },
  {
   "cell_type": "code",
   "execution_count": 196,
   "id": "fd304eb3-6f39-47c4-8b54-28a85b57c733",
   "metadata": {},
   "outputs": [
    {
     "name": "stdout",
     "output_type": "stream",
     "text": [
      "The Total Quantity of pizza sold is : 49574\n"
     ]
    }
   ],
   "source": [
    "# Calculate the total quantity of pizzas sold by summing the 'quantity' column\n",
    "\n",
    "TotalQuantitySold = data[\"quantity\"].sum()\n",
    "\n",
    "# Display the total quantity sold\n",
    "\n",
    "print (f\"The Total Quantity of pizza sold is : {TotalQuantitySold}\")"
   ]
  },
  {
   "cell_type": "markdown",
   "id": "fb14b20a-92a8-417b-a48d-73aa990dd8a5",
   "metadata": {},
   "source": [
    "### Total Orders  \r\n",
    "We count the total number of unique orders placed in the dataset.  "
   ]
  },
  {
   "cell_type": "code",
   "execution_count": 197,
   "id": "9fea5af4-8922-4619-a5ff-e0c04af324ab",
   "metadata": {},
   "outputs": [
    {
     "name": "stdout",
     "output_type": "stream",
     "text": [
      "The Total orders received is : 21350\n"
     ]
    }
   ],
   "source": [
    "# Count the total number of unique orders by finding the distinct values in 'order_id'\n",
    "\n",
    "Total_orders= data[\"order_id\"].nunique()\n",
    "\n",
    "# Display the total number of orders\n",
    "\n",
    "print (f\"The Total orders received is : {Total_orders}\")"
   ]
  },
  {
   "cell_type": "markdown",
   "id": "a8d2ef67-4b8b-4072-a4de-9e7ba13eb697",
   "metadata": {},
   "source": [
    "### Number of Pizza Types Sold  \n",
    "We check how many distinct pizza types are available on the menu.  \n"
   ]
  },
  {
   "cell_type": "code",
   "execution_count": 199,
   "id": "791b2e26-45e2-4dd4-9db6-1483b78baf06",
   "metadata": {},
   "outputs": [
    {
     "name": "stdout",
     "output_type": "stream",
     "text": [
      "They sell 32 type of pizza\n"
     ]
    }
   ],
   "source": [
    "# Find the total number of unique pizza types sold \n",
    "# by counting distinct values in the 'pizza_type_id' column\n",
    "PizzaType=data[\"pizza_type_id\"].nunique()\n",
    "\n",
    "print(f\"They sell {PizzaType} type of pizza\")"
   ]
  },
  {
   "cell_type": "markdown",
   "id": "bbb1d243-a8d4-4ddc-8047-966cb8983fc7",
   "metadata": {},
   "source": [
    "### Average Price of Pizzas  \n",
    "We calculate the average selling price of pizzas across the menu.  \n"
   ]
  },
  {
   "cell_type": "code",
   "execution_count": 201,
   "id": "e1f1c835-8d89-4462-8fae-8ef80b12db71",
   "metadata": {},
   "outputs": [
    {
     "name": "stdout",
     "output_type": "stream",
     "text": [
      "The average price is : 16.494132044426163\n"
     ]
    }
   ],
   "source": [
    "# Calculate the average price of pizzas by taking the mean of the 'price' column\n",
    "\n",
    "Average_price=data[\"price\"].mean()\n",
    "\n",
    "print (f\"The average price is : {Average_price}\")"
   ]
  },
  {
   "cell_type": "markdown",
   "id": "92a4a9b3-4319-4b2b-903d-54d1793acb16",
   "metadata": {},
   "source": [
    "### 6. Peak Hours of Sales  \n",
    "We analyze sales distribution by hour of the day to determine the busiest sales periods.  \n",
    "Using a **bar chart** to clearly compare revenue or quantity per hour.  \r",
    "with an- Overlay  a***line char*** to show the trend of sales throughout the day."
   ]
  },
  {
   "cell_type": "code",
   "execution_count": 202,
   "id": "42903425-2859-4ae7-90fc-18ae9dd2c18b",
   "metadata": {},
   "outputs": [
    {
     "name": "stdout",
     "output_type": "stream",
     "text": [
      "Hourly Revenue\n"
     ]
    },
    {
     "data": {
      "text/html": [
       "<div>\n",
       "<style scoped>\n",
       "    .dataframe tbody tr th:only-of-type {\n",
       "        vertical-align: middle;\n",
       "    }\n",
       "\n",
       "    .dataframe tbody tr th {\n",
       "        vertical-align: top;\n",
       "    }\n",
       "\n",
       "    .dataframe thead th {\n",
       "        text-align: right;\n",
       "    }\n",
       "</style>\n",
       "<table border=\"1\" class=\"dataframe\">\n",
       "  <thead>\n",
       "    <tr style=\"text-align: right;\">\n",
       "      <th></th>\n",
       "      <th>Hour</th>\n",
       "      <th>revenue</th>\n",
       "    </tr>\n",
       "  </thead>\n",
       "  <tbody>\n",
       "    <tr>\n",
       "      <th>3</th>\n",
       "      <td>12</td>\n",
       "      <td>111877.90</td>\n",
       "    </tr>\n",
       "    <tr>\n",
       "      <th>4</th>\n",
       "      <td>13</td>\n",
       "      <td>106065.70</td>\n",
       "    </tr>\n",
       "    <tr>\n",
       "      <th>9</th>\n",
       "      <td>18</td>\n",
       "      <td>89296.85</td>\n",
       "    </tr>\n",
       "    <tr>\n",
       "      <th>8</th>\n",
       "      <td>17</td>\n",
       "      <td>86237.45</td>\n",
       "    </tr>\n",
       "    <tr>\n",
       "      <th>10</th>\n",
       "      <td>19</td>\n",
       "      <td>72628.90</td>\n",
       "    </tr>\n",
       "    <tr>\n",
       "      <th>7</th>\n",
       "      <td>16</td>\n",
       "      <td>70055.40</td>\n",
       "    </tr>\n",
       "    <tr>\n",
       "      <th>5</th>\n",
       "      <td>14</td>\n",
       "      <td>59201.40</td>\n",
       "    </tr>\n",
       "    <tr>\n",
       "      <th>11</th>\n",
       "      <td>20</td>\n",
       "      <td>58215.40</td>\n",
       "    </tr>\n",
       "    <tr>\n",
       "      <th>6</th>\n",
       "      <td>15</td>\n",
       "      <td>52992.30</td>\n",
       "    </tr>\n",
       "    <tr>\n",
       "      <th>2</th>\n",
       "      <td>11</td>\n",
       "      <td>44935.80</td>\n",
       "    </tr>\n",
       "    <tr>\n",
       "      <th>12</th>\n",
       "      <td>21</td>\n",
       "      <td>42029.80</td>\n",
       "    </tr>\n",
       "    <tr>\n",
       "      <th>13</th>\n",
       "      <td>22</td>\n",
       "      <td>22815.15</td>\n",
       "    </tr>\n",
       "    <tr>\n",
       "      <th>14</th>\n",
       "      <td>23</td>\n",
       "      <td>1121.35</td>\n",
       "    </tr>\n",
       "    <tr>\n",
       "      <th>1</th>\n",
       "      <td>10</td>\n",
       "      <td>303.65</td>\n",
       "    </tr>\n",
       "    <tr>\n",
       "      <th>0</th>\n",
       "      <td>9</td>\n",
       "      <td>83.00</td>\n",
       "    </tr>\n",
       "  </tbody>\n",
       "</table>\n",
       "</div>"
      ],
      "text/plain": [
       "    Hour    revenue\n",
       "3     12  111877.90\n",
       "4     13  106065.70\n",
       "9     18   89296.85\n",
       "8     17   86237.45\n",
       "10    19   72628.90\n",
       "7     16   70055.40\n",
       "5     14   59201.40\n",
       "11    20   58215.40\n",
       "6     15   52992.30\n",
       "2     11   44935.80\n",
       "12    21   42029.80\n",
       "13    22   22815.15\n",
       "14    23    1121.35\n",
       "1     10     303.65\n",
       "0      9      83.00"
      ]
     },
     "execution_count": 202,
     "metadata": {},
     "output_type": "execute_result"
    }
   ],
   "source": [
    "# Extract the month name from the \"date\" column and store it in a new column \"Month\"\n",
    "\n",
    "data[\"Hour\"] = data[\"time\"].dt.hour\n",
    "\n",
    "# Group the data by 'Hour' and calculate the total revenue for each hour\n",
    "# Then reset the index to make it a DataFrame and sort the results \n",
    "# in descending order of revenue to identify peak sales hours\n",
    "\n",
    "HourlyRevenue = data.groupby(\"Hour\")[\"revenue\"].sum().reset_index().sort_values(by=\"revenue\", ascending=False)\n",
    "\n",
    "# Display the HourlyRevenue\n",
    "print (\"Hourly Revenue\")\n",
    "HourlyRevenue "
   ]
  },
  {
   "cell_type": "code",
   "execution_count": 172,
   "id": "2e959d88-6854-49d7-95d0-68aea19b5a84",
   "metadata": {},
   "outputs": [
    {
     "data": {
      "image/png": "[encoded data removed]",
      "text/plain": [
       "<Figure size 800x500 with 1 Axes>"
      ]
     },
     "metadata": {},
     "output_type": "display_data"
    }
   ],
   "source": [
    "# Create a figure (canvas) of size 8x5 inches\n",
    "\n",
    "plt.figure(figsize=(8,5))\n",
    "\n",
    "# Plot bar chart for hourly revenue\n",
    "\n",
    "plt.bar(HourlyRevenue[\"Hour\"], HourlyRevenue[\"revenue\"], alpha=0.6, label=\"Hourly Revenue\")\n",
    "\n",
    "# Overlay line chart for trend\n",
    "\n",
    "plt.plot(HourlyRevenue[\"Hour\"], HourlyRevenue[\"revenue\"], color=\"red\", marker=\"o\", label=\"Trend\")\n",
    "\n",
    "# Add title and labels\n",
    "\n",
    "plt.title(\"Hourly Sales and Trend\")\n",
    "plt.xlabel(\"Hour\")\n",
    "plt.ylabel(\"Total Revenue\")\n",
    "\n",
    "# Show legend\n",
    "\n",
    "plt.legend()\n",
    "\n",
    "# Display the chart\n",
    "\n",
    "plt.show()\n"
   ]
  },
  {
   "cell_type": "markdown",
   "id": "41d2a1f6-08b3-469e-ba60-86ec58721798",
   "metadata": {},
   "source": [
    "### Peak Hours of Sales: Conclusion  \n",
    "Sales are highest between **12 – 14 hours (lunch)** and **16  – 20 hours (dinner)**, showing clear meal-time peaks.  \n",
    "This indicates customer demand is strongly tied to typical eating hours.  \n"
   ]
  },
  {
   "cell_type": "markdown",
   "id": "4b9a16f8-0be2-447f-8db0-95fcf7b8d6ec",
   "metadata": {},
   "source": [
    "### Sales by Day of the Week  \n",
    "We aggregate total sales for each day of the week to identify which day records the highest sales.  \n",
    "Used a **horizontal bar chart** to compare total revenue per day.  \n",
    "with an overlayed a **line chart** to visualize the weekly sales trend."
   ]
  },
  {
   "cell_type": "code",
   "execution_count": 230,
   "id": "5e805d74-d234-47ce-a358-573977bf7c53",
   "metadata": {},
   "outputs": [
    {
     "name": "stdout",
     "output_type": "stream",
     "text": [
      "Daily Revenue\n"
     ]
    },
    {
     "data": {
      "text/html": [
       "<div>\n",
       "<style scoped>\n",
       "    .dataframe tbody tr th:only-of-type {\n",
       "        vertical-align: middle;\n",
       "    }\n",
       "\n",
       "    .dataframe tbody tr th {\n",
       "        vertical-align: top;\n",
       "    }\n",
       "\n",
       "    .dataframe thead th {\n",
       "        text-align: right;\n",
       "    }\n",
       "</style>\n",
       "<table border=\"1\" class=\"dataframe\">\n",
       "  <thead>\n",
       "    <tr style=\"text-align: right;\">\n",
       "      <th></th>\n",
       "      <th>days</th>\n",
       "      <th>revenue</th>\n",
       "    </tr>\n",
       "  </thead>\n",
       "  <tbody>\n",
       "    <tr>\n",
       "      <th>0</th>\n",
       "      <td>Friday</td>\n",
       "      <td>136073.90</td>\n",
       "    </tr>\n",
       "    <tr>\n",
       "      <th>4</th>\n",
       "      <td>Thursday</td>\n",
       "      <td>123528.50</td>\n",
       "    </tr>\n",
       "    <tr>\n",
       "      <th>2</th>\n",
       "      <td>Saturday</td>\n",
       "      <td>123182.40</td>\n",
       "    </tr>\n",
       "    <tr>\n",
       "      <th>6</th>\n",
       "      <td>Wednesday</td>\n",
       "      <td>114408.40</td>\n",
       "    </tr>\n",
       "    <tr>\n",
       "      <th>5</th>\n",
       "      <td>Tuesday</td>\n",
       "      <td>114133.80</td>\n",
       "    </tr>\n",
       "    <tr>\n",
       "      <th>1</th>\n",
       "      <td>Monday</td>\n",
       "      <td>107329.55</td>\n",
       "    </tr>\n",
       "    <tr>\n",
       "      <th>3</th>\n",
       "      <td>Sunday</td>\n",
       "      <td>99203.50</td>\n",
       "    </tr>\n",
       "  </tbody>\n",
       "</table>\n",
       "</div>"
      ],
      "text/plain": [
       "        days    revenue\n",
       "0     Friday  136073.90\n",
       "4   Thursday  123528.50\n",
       "2   Saturday  123182.40\n",
       "6  Wednesday  114408.40\n",
       "5    Tuesday  114133.80\n",
       "1     Monday  107329.55\n",
       "3     Sunday   99203.50"
      ]
     },
     "execution_count": 230,
     "metadata": {},
     "output_type": "execute_result"
    }
   ],
   "source": [
    "# Extract the day name from the \"date\" column and store it in a new column \"days\"\n",
    "\n",
    "data[\"days\"] = data[\"date\"].dt.day_name()\n",
    "\n",
    "# Group the data by 'days' and calculate the total revenue for each day\n",
    "# Then reset the index to make it a DataFrame and sort the results \n",
    "# in descending order of revenue to identify peak sales days\n",
    "\n",
    "DailyRevenue = data.groupby(\"days\")[\"revenue\"].sum().reset_index().sort_values(by=\"revenue\", ascending= False)\n",
    "\n",
    "# Display the Dily Revenue\n",
    "print (\"Daily Revenue\")\n",
    "DailyRevenue"
   ]
  },
  {
   "cell_type": "code",
   "execution_count": 174,
   "id": "793cdc5a-955f-4d9d-820a-ea773d59d19b",
   "metadata": {},
   "outputs": [
    {
     "data": {
      "image/png": "[encoded data removed]",
      "text/plain": [
       "<Figure size 800x500 with 1 Axes>"
      ]
     },
     "metadata": {},
     "output_type": "display_data"
    }
   ],
   "source": [
    "# Create a figure (canvas) of size 8x5 inches\n",
    "\n",
    "plt.figure(figsize=(8,5))\n",
    "\n",
    "# Plot bar chart for hourly revenue\n",
    "\n",
    "plt.bar(DailyRevenue[\"days\"], DailyRevenue[\"revenue\"], alpha=0.6, label=\"Daily Revenue\")\n",
    "\n",
    "# Overlay line chart for trend\n",
    "\n",
    "plt.plot(DailyRevenue[\"days\"], DailyRevenue[\"revenue\"], color=\"red\", marker=\"o\", label=\"Trend\")\n",
    "\n",
    "# Add title and labels\n",
    "\n",
    "plt.title(\"Daily Sales and Trend\")\n",
    "plt.xlabel(\"Days\")\n",
    "plt.ylabel(\"Total Revenue\")\n",
    "\n",
    "# Show legend\n",
    "\n",
    "plt.legend()\n",
    "\n",
    "# Display the chart\n",
    "\n",
    "plt.show()"
   ]
  },
  {
   "cell_type": "markdown",
   "id": "eed84974-660e-4b78-97b5-c6617ffb6dac",
   "metadata": {},
   "source": [
    "### Sales by Day of the Week: Conclusion  \n",
    "Sales are fairly steady throughout the week, but **Fridays and Saturdays record the highest revenue**.  \n",
    "This suggests weekends drive stronger demand, likely due to social gatherings and leisure activities.  \n"
   ]
  },
  {
   "cell_type": "markdown",
   "id": "07873028-a9c4-4170-8414-2321ad93f14d",
   "metadata": {},
   "source": [
    "### Top 5 Bestselling Pizzas  \n",
    "We rank pizzas based on total quantity sold to highlight the top 5 performers.  \n",
    "Using Horizontal bar chart (to make long pizza names readable)."
   ]
  },
  {
   "cell_type": "code",
   "execution_count": 204,
   "id": "499b664e-efb5-441d-b24c-86323a4a521f",
   "metadata": {},
   "outputs": [
    {
     "name": "stdout",
     "output_type": "stream",
     "text": [
      "Top 5 best selling Pizzas are :\n"
     ]
    },
    {
     "data": {
      "text/html": [
       "<div>\n",
       "<style scoped>\n",
       "    .dataframe tbody tr th:only-of-type {\n",
       "        vertical-align: middle;\n",
       "    }\n",
       "\n",
       "    .dataframe tbody tr th {\n",
       "        vertical-align: top;\n",
       "    }\n",
       "\n",
       "    .dataframe thead th {\n",
       "        text-align: right;\n",
       "    }\n",
       "</style>\n",
       "<table border=\"1\" class=\"dataframe\">\n",
       "  <thead>\n",
       "    <tr style=\"text-align: right;\">\n",
       "      <th></th>\n",
       "      <th>name</th>\n",
       "      <th>quantity</th>\n",
       "    </tr>\n",
       "  </thead>\n",
       "  <tbody>\n",
       "    <tr>\n",
       "      <th>7</th>\n",
       "      <td>The Classic Deluxe Pizza</td>\n",
       "      <td>2453</td>\n",
       "    </tr>\n",
       "    <tr>\n",
       "      <th>0</th>\n",
       "      <td>The Barbecue Chicken Pizza</td>\n",
       "      <td>2432</td>\n",
       "    </tr>\n",
       "    <tr>\n",
       "      <th>12</th>\n",
       "      <td>The Hawaiian Pizza</td>\n",
       "      <td>2422</td>\n",
       "    </tr>\n",
       "    <tr>\n",
       "      <th>20</th>\n",
       "      <td>The Pepperoni Pizza</td>\n",
       "      <td>2418</td>\n",
       "    </tr>\n",
       "    <tr>\n",
       "      <th>30</th>\n",
       "      <td>The Thai Chicken Pizza</td>\n",
       "      <td>2371</td>\n",
       "    </tr>\n",
       "  </tbody>\n",
       "</table>\n",
       "</div>"
      ],
      "text/plain": [
       "                          name  quantity\n",
       "7     The Classic Deluxe Pizza      2453\n",
       "0   The Barbecue Chicken Pizza      2432\n",
       "12          The Hawaiian Pizza      2422\n",
       "20         The Pepperoni Pizza      2418\n",
       "30      The Thai Chicken Pizza      2371"
      ]
     },
     "execution_count": 204,
     "metadata": {},
     "output_type": "execute_result"
    }
   ],
   "source": [
    "# Group the data by pizza name and calculate the total quantity sold for each pizza\n",
    "\n",
    "pizzas = data.groupby(\"name\")[\"quantity\"].sum().reset_index()\n",
    "\n",
    "# Sort the pizzas in descending order based on total quantity sold\n",
    "\n",
    "pizzas.sort_values(by=\"quantity\", ascending=False, inplace=True)\n",
    "\n",
    "# Display the top 5 bestselling pizzas by quantity\n",
    "\n",
    "Top5pizzas= pizzas[:5]\n",
    "\n",
    "# Display the Top_5 Pizzas\n",
    "print (\"Top 5 best selling Pizzas are :\")\n",
    "Top5pizzas"
   ]
  },
  {
   "cell_type": "code",
   "execution_count": 176,
   "id": "f674035b-1632-459b-8d5d-b252f922c52b",
   "metadata": {},
   "outputs": [
    {
     "data": {
      "image/png": "[encoded data removed]",
      "text/plain": [
       "<Figure size 640x480 with 1 Axes>"
      ]
     },
     "metadata": {},
     "output_type": "display_data"
    }
   ],
   "source": [
    "# Create a horizontal bar chart showing the top 5 bestselling pizzas by quantity sold\n",
    "\n",
    "plt.barh(Top5pizzas[\"name\"], Top5pizzas[\"quantity\"])\n",
    "\n",
    "# Add a title to the chart\n",
    "\n",
    "plt.title(\"Top 5 Bestselling Pizzas by Quantity Sold\")\n",
    "\n",
    "# Label the x-axis as total quantity sold\n",
    "\n",
    "plt.xlabel(\"Total Quantity Sold\")\n",
    "\n",
    "# Label the y-axis as pizza name\n",
    "\n",
    "plt.ylabel(\"Pizza Name\")\n",
    "\n",
    "# Display the chart\n",
    "\n",
    "plt.show()\n"
   ]
  },
  {
   "cell_type": "markdown",
   "id": "9722955c-bad7-41fc-ab75-bc092799c37e",
   "metadata": {},
   "source": [
    "### Top 5 Bestselling Pizzas: Conclusion  \n",
    "The **Classic Deluxe Pizza** leads as the top seller with over 2,450 units sold, closely followed by the **Barbecue Chicken, Hawaiian, Pepperoni, and Thai Chicken Pizzas**.  \n",
    "\n",
    "These top 5 pizzas all sold in similar high volumes (over 2,300 units each), showing strong and consistent customer demand.  \n",
    "They are key drivers of revenue and should remain the focus of promotions and inventory planning.  \n",
    "\n"
   ]
  },
  {
   "cell_type": "markdown",
   "id": "dcc03718-0282-4c93-aca1-7a354c9096c4",
   "metadata": {},
   "source": [
    "### Monthly Sales and Trends  \n",
    "We calculate total sales for each month and look for noticeable seasonal or monthly patterns.  \n",
    "Used a **bar chart** to display total sales per month.  \n",
    "with an Overlay  **line chart** to show the trend or seasonal patterns over the months."
   ]
  },
  {
   "cell_type": "code",
   "execution_count": 205,
   "id": "f5d314b6-0a8c-41d1-8eef-1fd3c2beb209",
   "metadata": {},
   "outputs": [
    {
     "name": "stdout",
     "output_type": "stream",
     "text": [
      "Monthly Revenues are : \n"
     ]
    },
    {
     "data": {
      "text/html": [
       "<div>\n",
       "<style scoped>\n",
       "    .dataframe tbody tr th:only-of-type {\n",
       "        vertical-align: middle;\n",
       "    }\n",
       "\n",
       "    .dataframe tbody tr th {\n",
       "        vertical-align: top;\n",
       "    }\n",
       "\n",
       "    .dataframe thead th {\n",
       "        text-align: right;\n",
       "    }\n",
       "</style>\n",
       "<table border=\"1\" class=\"dataframe\">\n",
       "  <thead>\n",
       "    <tr style=\"text-align: right;\">\n",
       "      <th></th>\n",
       "      <th>month</th>\n",
       "      <th>revenue</th>\n",
       "    </tr>\n",
       "  </thead>\n",
       "  <tbody>\n",
       "    <tr>\n",
       "      <th>5</th>\n",
       "      <td>July</td>\n",
       "      <td>72557.90</td>\n",
       "    </tr>\n",
       "    <tr>\n",
       "      <th>8</th>\n",
       "      <td>May</td>\n",
       "      <td>71402.75</td>\n",
       "    </tr>\n",
       "    <tr>\n",
       "      <th>7</th>\n",
       "      <td>March</td>\n",
       "      <td>70397.10</td>\n",
       "    </tr>\n",
       "    <tr>\n",
       "      <th>9</th>\n",
       "      <td>November</td>\n",
       "      <td>70395.35</td>\n",
       "    </tr>\n",
       "    <tr>\n",
       "      <th>4</th>\n",
       "      <td>January</td>\n",
       "      <td>69793.30</td>\n",
       "    </tr>\n",
       "    <tr>\n",
       "      <th>0</th>\n",
       "      <td>April</td>\n",
       "      <td>68736.80</td>\n",
       "    </tr>\n",
       "    <tr>\n",
       "      <th>1</th>\n",
       "      <td>August</td>\n",
       "      <td>68278.25</td>\n",
       "    </tr>\n",
       "    <tr>\n",
       "      <th>6</th>\n",
       "      <td>June</td>\n",
       "      <td>68230.20</td>\n",
       "    </tr>\n",
       "    <tr>\n",
       "      <th>3</th>\n",
       "      <td>February</td>\n",
       "      <td>65159.60</td>\n",
       "    </tr>\n",
       "    <tr>\n",
       "      <th>2</th>\n",
       "      <td>December</td>\n",
       "      <td>64701.15</td>\n",
       "    </tr>\n",
       "    <tr>\n",
       "      <th>11</th>\n",
       "      <td>September</td>\n",
       "      <td>64180.05</td>\n",
       "    </tr>\n",
       "    <tr>\n",
       "      <th>10</th>\n",
       "      <td>October</td>\n",
       "      <td>64027.60</td>\n",
       "    </tr>\n",
       "  </tbody>\n",
       "</table>\n",
       "</div>"
      ],
      "text/plain": [
       "        month   revenue\n",
       "5        July  72557.90\n",
       "8         May  71402.75\n",
       "7       March  70397.10\n",
       "9    November  70395.35\n",
       "4     January  69793.30\n",
       "0       April  68736.80\n",
       "1      August  68278.25\n",
       "6        June  68230.20\n",
       "3    February  65159.60\n",
       "2    December  64701.15\n",
       "11  September  64180.05\n",
       "10    October  64027.60"
      ]
     },
     "execution_count": 205,
     "metadata": {},
     "output_type": "execute_result"
    }
   ],
   "source": [
    "# Extract the month name from the \"date\" column and store it in a new column \"Month\"\n",
    "\n",
    "data[\"month\"] = data[\"date\"].dt.month_name()\n",
    "\n",
    "# Group the data by \"Month\" and calculate the total revenue for each month\n",
    "# Reset index to turn the result back into a DataFrame\n",
    "# in descending order of revenue to identify peak sales Months\n",
    "\n",
    "MonthlyRevenue = data.groupby(\"month\")[\"revenue\"].sum().reset_index().sort_values(by=\"revenue\", ascending = False)\n",
    "\n",
    "# Display the Monthly Revenue\n",
    "print (\"Monthly Revenues are : \")\n",
    "MonthlyRevenue"
   ]
  },
  {
   "cell_type": "code",
   "execution_count": 178,
   "id": "9d6408ed-858e-4121-a36d-790dd5d1e6d1",
   "metadata": {},
   "outputs": [
    {
     "data": {
      "image/png": "[encoded data removed]",
      "text/plain": [
       "<Figure size 1300x500 with 1 Axes>"
      ]
     },
     "metadata": {},
     "output_type": "display_data"
    }
   ],
   "source": [
    "# Create a figure (canvas) of size 13x5 inches\n",
    "\n",
    "plt.figure(figsize=(13,5))\n",
    "\n",
    "# Plot bar chart for monthly revenue\n",
    "\n",
    "plt.bar(MonthlyRevenue[\"month\"], MonthlyRevenue[\"revenue\"], alpha=0.6, label=\"Monthly Revenue\")\n",
    "\n",
    "# Overlay line chart for trend\n",
    "\n",
    "plt.plot(MonthlyRevenue[\"month\"], MonthlyRevenue[\"revenue\"], color=\"red\", marker=\"o\", label=\"Trend\")\n",
    "\n",
    "# Add title and labels\n",
    "\n",
    "plt.title(\"Monthly Sales and Trend\")\n",
    "plt.xlabel(\"Months\")\n",
    "plt.ylabel(\"Total Revenue\")\n",
    "\n",
    "# Show legend\n",
    "\n",
    "plt.legend()\n",
    "\n",
    "# Display the chart\n",
    "\n",
    "plt.show()"
   ]
  },
  {
   "cell_type": "markdown",
   "id": "cde8f9b8-6298-4055-967b-c37d86185397",
   "metadata": {},
   "source": [
    "### Monthly Sales Trend: Conclusion  \n",
    "The sales trend shows that **July, May, and March** are the strongest months, each generating over $70,000 in revenue.  \n",
    "\n",
    "Meanwhile, **September,** **October,** **and** **December** record the lowest sales, with revenue around $64,000.  \n",
    "This indicates some **seasonal variation in demand**, with mid-year months (May–July) performing better, while the later months see weaker sales.  \n",
    "Such insights can guide seasonal promotions and resource allocation to maximize revenue.  \n"
   ]
  },
  {
   "cell_type": "markdown",
   "id": "a5bbc639-f077-4d29-8c59-7a4516568048",
   "metadata": {},
   "source": [
    "### Underperforming Pizza Types  \n",
    "We identify pizza types with the amount of quantity sold, showing which menu items are not performing well.  \n",
    "Using Horizontal bar chart to visualize the worst-selling pizzas.  \n"
   ]
  },
  {
   "cell_type": "code",
   "execution_count": 206,
   "id": "64f02bbf-ad52-45d3-9f18-b16bc0465b26",
   "metadata": {},
   "outputs": [
    {
     "name": "stdout",
     "output_type": "stream",
     "text": [
      "The Worst 5 Pizzas by Quantity Sold are :\n"
     ]
    },
    {
     "data": {
      "text/html": [
       "<div>\n",
       "<style scoped>\n",
       "    .dataframe tbody tr th:only-of-type {\n",
       "        vertical-align: middle;\n",
       "    }\n",
       "\n",
       "    .dataframe tbody tr th {\n",
       "        vertical-align: top;\n",
       "    }\n",
       "\n",
       "    .dataframe thead th {\n",
       "        text-align: right;\n",
       "    }\n",
       "</style>\n",
       "<table border=\"1\" class=\"dataframe\">\n",
       "  <thead>\n",
       "    <tr style=\"text-align: right;\">\n",
       "      <th></th>\n",
       "      <th>pizza_type_id</th>\n",
       "      <th>name</th>\n",
       "      <th>quantity</th>\n",
       "    </tr>\n",
       "  </thead>\n",
       "  <tbody>\n",
       "    <tr>\n",
       "      <th>2</th>\n",
       "      <td>brie_carre</td>\n",
       "      <td>The Brie Carre Pizza</td>\n",
       "      <td>490</td>\n",
       "    </tr>\n",
       "    <tr>\n",
       "      <th>15</th>\n",
       "      <td>mediterraneo</td>\n",
       "      <td>The Mediterranean Pizza</td>\n",
       "      <td>934</td>\n",
       "    </tr>\n",
       "    <tr>\n",
       "      <th>3</th>\n",
       "      <td>calabrese</td>\n",
       "      <td>The Calabrese Pizza</td>\n",
       "      <td>937</td>\n",
       "    </tr>\n",
       "    <tr>\n",
       "      <th>28</th>\n",
       "      <td>spinach_supr</td>\n",
       "      <td>The Spinach Supreme Pizza</td>\n",
       "      <td>950</td>\n",
       "    </tr>\n",
       "    <tr>\n",
       "      <th>23</th>\n",
       "      <td>soppressata</td>\n",
       "      <td>The Soppressata Pizza</td>\n",
       "      <td>961</td>\n",
       "    </tr>\n",
       "  </tbody>\n",
       "</table>\n",
       "</div>"
      ],
      "text/plain": [
       "   pizza_type_id                       name  quantity\n",
       "2     brie_carre       The Brie Carre Pizza       490\n",
       "15  mediterraneo    The Mediterranean Pizza       934\n",
       "3      calabrese        The Calabrese Pizza       937\n",
       "28  spinach_supr  The Spinach Supreme Pizza       950\n",
       "23   soppressata      The Soppressata Pizza       961"
      ]
     },
     "execution_count": 206,
     "metadata": {},
     "output_type": "execute_result"
    }
   ],
   "source": [
    "# Group the data by pizza type ID and pizza name, then sum the quantity sold for each pizza\n",
    "# Reset index to return a proper DataFrame\n",
    "# Sort the pizzas in ascending order of quantity to identify low-selling pizzas\n",
    "\n",
    "PizzaPerformance = data.groupby([\"pizza_type_id\", \"name\"])[\"quantity\"].sum().reset_index().sort_values(by=\"quantity\", ascending=True)\n",
    "\n",
    "# Select the bottom 5 pizzas with the lowest quantity sold\n",
    "\n",
    "WorstPizzas = PizzaPerformance[:5]\n",
    "\n",
    "# Display the bottom 5 underperforming pizzas\n",
    "print (\"The Worst 5 Pizzas by Quantity Sold are :\")\n",
    "WorstPizzas"
   ]
  },
  {
   "cell_type": "code",
   "execution_count": 180,
   "id": "64055b24-2e3b-4ef9-8e33-f95bcdb1e39e",
   "metadata": {},
   "outputs": [
    {
     "data": {
      "image/png": "[encoded data removed]",
      "text/plain": [
       "<Figure size 640x480 with 1 Axes>"
      ]
     },
     "metadata": {},
     "output_type": "display_data"
    }
   ],
   "source": [
    "# Horizontal bar chart for the Worst 5 pizzas by quantity sold\n",
    "\n",
    "plt.barh(WorstPizzas[\"name\"], WorstPizzas[\"quantity\"], color=\"red\")\n",
    "\n",
    "# Add chart title and axis labels\n",
    "\n",
    "plt.title(\"Worst 5 Pizzas by Quantity Sold\")\n",
    "plt.xlabel(\"Total Quantity Sold\")\n",
    "plt.ylabel(\"Pizza Name\")\n",
    "\n",
    "# Display the chart\n",
    "\n",
    "plt.show()"
   ]
  },
  {
   "cell_type": "markdown",
   "id": "45f769ca-636c-4427-9231-d0a52031333d",
   "metadata": {},
   "source": [
    "### Underperforming Pizza Types: Conclusion  \n",
    "The analysis shows that the **Brie Carre Pizza** is the least popular, selling fewer than 500 units, while other low performers like the **Mediterranean, Calabrese, Spinach Supreme, and Soppressata** pizzas each sold under 1,000 units.  \n",
    "\n",
    "These pizzas contribute very little to overall sales, suggesting they may need **recipe improvements, targeted promotions, or possible removal** from the menu to optimize resources.  \n"
   ]
  },
  {
   "cell_type": "markdown",
   "id": "c8989bb9-dc9f-4c31-8406-e380e7a89d88",
   "metadata": {},
   "source": [
    "### Further Analysis\r\n",
    "Beyond basic metrics, we can explore deeper insights intopizza category insightr, pizzasize insighte, andcorrelation between price and quantity..\r\n"
   ]
  },
  {
   "cell_type": "markdown",
   "id": "9176c8b1-a511-498b-89a6-f68e232e8963",
   "metadata": {},
   "source": [
    "### Pizza Category Insights  \r\n",
    "\r\n",
    "Here we check the **total quantity of pizzas sold by category** to see which groups are most popular.  \r\n",
    "\n"
   ]
  },
  {
   "cell_type": "code",
   "execution_count": 232,
   "id": "9b56f2d2-319d-4f92-a933-010fd7941074",
   "metadata": {},
   "outputs": [
    {
     "name": "stdout",
     "output_type": "stream",
     "text": [
      "The total quantity sold per category are : \n"
     ]
    },
    {
     "data": {
      "text/html": [
       "<div>\n",
       "<style scoped>\n",
       "    .dataframe tbody tr th:only-of-type {\n",
       "        vertical-align: middle;\n",
       "    }\n",
       "\n",
       "    .dataframe tbody tr th {\n",
       "        vertical-align: top;\n",
       "    }\n",
       "\n",
       "    .dataframe thead th {\n",
       "        text-align: right;\n",
       "    }\n",
       "</style>\n",
       "<table border=\"1\" class=\"dataframe\">\n",
       "  <thead>\n",
       "    <tr style=\"text-align: right;\">\n",
       "      <th></th>\n",
       "      <th>category</th>\n",
       "      <th>quantity</th>\n",
       "    </tr>\n",
       "  </thead>\n",
       "  <tbody>\n",
       "    <tr>\n",
       "      <th>1</th>\n",
       "      <td>Classic</td>\n",
       "      <td>14888</td>\n",
       "    </tr>\n",
       "    <tr>\n",
       "      <th>2</th>\n",
       "      <td>Supreme</td>\n",
       "      <td>11987</td>\n",
       "    </tr>\n",
       "    <tr>\n",
       "      <th>3</th>\n",
       "      <td>Veggie</td>\n",
       "      <td>11649</td>\n",
       "    </tr>\n",
       "    <tr>\n",
       "      <th>0</th>\n",
       "      <td>Chicken</td>\n",
       "      <td>11050</td>\n",
       "    </tr>\n",
       "  </tbody>\n",
       "</table>\n",
       "</div>"
      ],
      "text/plain": [
       "  category  quantity\n",
       "1  Classic     14888\n",
       "2  Supreme     11987\n",
       "3   Veggie     11649\n",
       "0  Chicken     11050"
      ]
     },
     "execution_count": 232,
     "metadata": {},
     "output_type": "execute_result"
    }
   ],
   "source": [
    "# Group the dataset by pizza category and calculate the total quantity sold per category.\n",
    "# Reset the index to return a clean DataFrame instead of a Series.\n",
    "# Sort the results in descending order to identify the best-selling categories at the top.\n",
    "\n",
    "PizzaCategory = data.groupby([\"category\"])[\"quantity\"].sum().reset_index()\n",
    "PizzaCategory.sort_values(by=\"quantity\", ascending=False, inplace=True)\n",
    "\n",
    "print (\"The total quantity sold per category are : \")\n",
    "\n",
    "# Display the The total quantity sold per category\n",
    "PizzaCategory"
   ]
  },
  {
   "cell_type": "code",
   "execution_count": 233,
   "id": "40414be9-e762-4fc1-8f4e-185212502825",
   "metadata": {},
   "outputs": [
    {
     "data": {
      "image/png": "[encoded data removed]",
      "text/plain": [
       "<Figure size 640x480 with 1 Axes>"
      ]
     },
     "metadata": {},
     "output_type": "display_data"
    }
   ],
   "source": [
    "# Horizontal bar chart for the The total quantity sold per category\n",
    "plt.barh(PizzaCategory[\"category\"], PizzaCategory[\"quantity\"], color=\"lightgreen\")\n",
    "\n",
    "# Add chart title and axis labels\n",
    "plt.title(\"Total Pizzas Sold by Category\")\n",
    "plt.xlabel(\"Total Quantity Sold per Category\")\n",
    "plt.ylabel(\"Pizza Category\")\n",
    "\n",
    "\n",
    "# Display the chart\n",
    "\n",
    "plt.show()"
   ]
  },
  {
   "cell_type": "markdown",
   "id": "79a73950-ac60-48cc-a6c5-d5231a61a584",
   "metadata": {},
   "source": [
    "### Pizza Category Insights : Conclusion\n",
    "\n",
    "Sales by pizza category show that **Classic pizzas are the most popular**, followed by **Supreme** and **Veggie pizzas**  \n",
    "**Chicken** pizzas sell the least, indicating a smaller customer preference.  \n"
   ]
  },
  {
   "cell_type": "markdown",
   "id": "41d008cb-ce2c-42a4-a0f4-9d5527e14fdd",
   "metadata": {},
   "source": [
    "### Pizza size Insights  \n",
    "\n",
    "Here we check the **total quantity of pizzas sold by size** to see which groups are most popular.  \n"
   ]
  },
  {
   "cell_type": "code",
   "execution_count": 238,
   "id": "4ebc8ea4-d8ee-4a62-9bc6-5108e139cf54",
   "metadata": {},
   "outputs": [
    {
     "data": {
      "text/html": [
       "<div>\n",
       "<style scoped>\n",
       "    .dataframe tbody tr th:only-of-type {\n",
       "        vertical-align: middle;\n",
       "    }\n",
       "\n",
       "    .dataframe tbody tr th {\n",
       "        vertical-align: top;\n",
       "    }\n",
       "\n",
       "    .dataframe thead th {\n",
       "        text-align: right;\n",
       "    }\n",
       "</style>\n",
       "<table border=\"1\" class=\"dataframe\">\n",
       "  <thead>\n",
       "    <tr style=\"text-align: right;\">\n",
       "      <th></th>\n",
       "      <th>size</th>\n",
       "      <th>quantity</th>\n",
       "    </tr>\n",
       "  </thead>\n",
       "  <tbody>\n",
       "    <tr>\n",
       "      <th>0</th>\n",
       "      <td>L</td>\n",
       "      <td>18956</td>\n",
       "    </tr>\n",
       "    <tr>\n",
       "      <th>1</th>\n",
       "      <td>M</td>\n",
       "      <td>15635</td>\n",
       "    </tr>\n",
       "    <tr>\n",
       "      <th>2</th>\n",
       "      <td>S</td>\n",
       "      <td>14403</td>\n",
       "    </tr>\n",
       "    <tr>\n",
       "      <th>3</th>\n",
       "      <td>XL</td>\n",
       "      <td>552</td>\n",
       "    </tr>\n",
       "    <tr>\n",
       "      <th>4</th>\n",
       "      <td>XXL</td>\n",
       "      <td>28</td>\n",
       "    </tr>\n",
       "  </tbody>\n",
       "</table>\n",
       "</div>"
      ],
      "text/plain": [
       "  size  quantity\n",
       "0    L     18956\n",
       "1    M     15635\n",
       "2    S     14403\n",
       "3   XL       552\n",
       "4  XXL        28"
      ]
     },
     "execution_count": 238,
     "metadata": {},
     "output_type": "execute_result"
    }
   ],
   "source": [
    "# Group the dataset by pizza size and calculate the total quantity sold for each size\n",
    "Pizzas_Size = data.groupby(\"size\")[\"quantity\"].sum().reset_index()\n",
    "\n",
    "# Sort the results in descending order to see which pizza size was sold the most\n",
    "Pizzas_Size = Pizzas_Size.sort_values(by=\"quantity\", ascending=False)\n",
    "\n",
    "# Display the DataFrame with total quantity sold per size\n",
    "Pizzas_Size\n"
   ]
  },
  {
   "cell_type": "code",
   "execution_count": 239,
   "id": "be23d514-266c-40ce-93b7-a7f5e233e3ae",
   "metadata": {},
   "outputs": [
    {
     "data": {
      "image/png": "[encoded data removed]",
      "text/plain": [
       "<Figure size 640x480 with 1 Axes>"
      ]
     },
     "metadata": {},
     "output_type": "display_data"
    }
   ],
   "source": [
    "# Create a bar chart to show how many pizzas were sold by size\n",
    "plt.bar(Pizzas_Size[\"size\"], Pizzas_Size[\"quantity\"])\n",
    "\n",
    "# Add a descriptive title for the chart\n",
    "plt.title(\"Total Pizzas Sold by Size\")\n",
    "\n",
    "# Label the x-axis to indicate it represents pizza sizes (S, M, L, XL, etc.)\n",
    "plt.xlabel(\"Size\")\n",
    "\n",
    "# Label the y-axis to indicate it represents the total number of pizzas sold\n",
    "plt.ylabel(\"Total Quantity Sold per Size\")\n",
    "\n",
    "# Display the plot\n",
    "plt.show()\n"
   ]
  },
  {
   "cell_type": "markdown",
   "id": "a66474a9-c16d-4a69-a1b8-7ff2b806404c",
   "metadata": {},
   "source": [
    "### Pizza Size Insights – Conclusion  \n",
    "The analysis shows that **Large (L) pizzas are the most popular**, with nearly 19,000 sold, followed by **Medium (M)** and **Small (S)** sizes.  \n",
    "Extra-large (XL) and double extra-large (XXL) pizzas contribute very little to sales, making up less than 3% of total orders.  \n",
    "\n",
    "This suggests that customer preference is strongly centered on regular sizes (L, M, S), while oversized pizzas (XL, XXL) are rarely chosen.  \n"
   ]
  },
  {
   "cell_type": "markdown",
   "id": "702b1ba2-d1c2-461f-862e-e943710bf7ab",
   "metadata": {},
   "source": [
    "### Correlation Analysis – Price vs Quantity Sold  \r\n",
    "Next, we check if there is a relationship between the price of a pizza and the quantity sold.  \r\n",
    "If higher prices reduce sales, we would expect a **negative correlation**.  \r\n",
    "If higher prices increase sales (unlikely), we would expect a **positive correlation**.  \r\n",
    "A value close to **zero** means there is **no clear relationship*.  \r\n",
    "\n"
   ]
  },
  {
   "cell_type": "code",
   "execution_count": 240,
   "id": "4ce1f5c1-3357-440c-9872-e8f45cbf143b",
   "metadata": {},
   "outputs": [
    {
     "name": "stdout",
     "output_type": "stream",
     "text": [
      "Correlation between price and quantity sold: 0.007142463924669933\n"
     ]
    }
   ],
   "source": [
    "# Calculate the correlation between pizza price and quantity sold.\n",
    "corr = data[\"price\"].corr(data[\"quantity\"])\n",
    "\n",
    "# Print the correlation value\n",
    "print(\"Correlation between price and quantity sold:\", corr)\n",
    "\n",
    "# Explanation for viewers:\n",
    "# Correlation values range between -1 and +1:\n",
    "#   +1 → strong positive relationship (as price increases, quantity increases)\n",
    "#   -1 → strong negative relationship (as price increases, quantity decreases)\n",
    "#    0 → no relationship\n",
    "#\n",
    "# In this case, the correlation is 0.007, which is very close to 0.\n",
    "# This means there is almost NO relationship between price and quantity sold.\n",
    "# Customers tend to buy about the same number of pizzas regardless of price.\n"
   ]
  },
  {
   "cell_type": "code",
   "execution_count": 241,
   "id": "da4ec603-ac22-4e42-a83c-c2b6c599acca",
   "metadata": {},
   "outputs": [
    {
     "data": {
      "image/png": "[encoded data removed]",
      "text/plain": [
       "<Figure size 640x480 with 1 Axes>"
      ]
     },
     "metadata": {},
     "output_type": "display_data"
    }
   ],
   "source": [
    "# Create a scatter plot with pizza price on the x-axis and quantity sold on the y-axis.\n",
    "# Each point represents a pizza item/order combination.\n",
    "plt.scatter(data[\"price\"], data[\"quantity\"], alpha=0.5)\n",
    "\n",
    "# Label the x-axis as \"Price\" to show what the horizontal axis represents.\n",
    "plt.xlabel(\"Price\")\n",
    "\n",
    "# Label the y-axis as \"Quantity Sold\" to indicate the vertical measure.\n",
    "plt.ylabel(\"Quantity Sold\")\n",
    "\n",
    "# Add a title to describe what the scatter plot is showing.\n",
    "plt.title(\"Price vs Quantity Sold\")\n",
    "\n",
    "# Render (display) the scatter plot.\n",
    "plt.show()\n"
   ]
  },
  {
   "cell_type": "markdown",
   "id": "ad6a990f-0a8c-483f-bc37-51f9170f89c9",
   "metadata": {},
   "source": [
    "### Correlation Analysis – Conclusion  \r\n",
    "\r\n",
    "We measured the relationship between pizza price and quantity sold.  \r\n",
    "The correlation value is **0.007**, which is extremely close to zero.  \r\n",
    "This means there is **no meaningful relationship** between the two variables\n",
    "The scatter plot supports this finding:  \r\n",
    "- Most customers order **1–2 pizzas per order**, usually in the **$10–$20 range**.  \r\n",
    "- Expensive pizzas (above $25) are rarely ordered and only in small quantities.  \r\n",
    "- The random scatter of points confirms the correlation value: **no strong trend exists** between price and quantity.  \r\n",
    ".  \r\n"
   ]
  }
 ],
 "metadata": {
  "kernelspec": {
   "display_name": "Python 3 (ipykernel)",
   "language": "python",
   "name": "python3"
  },
  "language_info": {
   "codemirror_mode": {
    "name": "ipython",
    "version": 3
   },
   "file_extension": ".py",
   "mimetype": "text/x-python",
   "name": "python",
   "nbconvert_exporter": "python",
   "pygments_lexer": "ipython3",
   "version": "3.11.7"
  }
 },
 "nbformat": 4,
 "nbformat_minor": 5
}
